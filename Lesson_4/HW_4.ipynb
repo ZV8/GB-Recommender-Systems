{
 "cells": [
  {
   "cell_type": "markdown",
   "metadata": {},
   "source": [
    "# Вебинар 4. Домашнее задание"
   ]
  },
  {
   "cell_type": "markdown",
   "metadata": {},
   "source": [
    "1. Перенесите метрики в модуль metrics.py (убедится что они там)\n",
    "2. Перенесите функцию prefilter_items в модуль utils.py\n",
    "3. Создайте модуль recommenders.py. Напишите код для класса ниже\n",
    "(задание обсуждали на вебинаре, для первой функции практически сделали) и положите его в recommenders.py\n",
    "4. Проверьте, что все модули корректно импортируются"
   ]
  },
  {
   "cell_type": "markdown",
   "source": [
    "---"
   ],
   "metadata": {
    "collapsed": false
   }
  },
  {
   "cell_type": "code",
   "execution_count": 1,
   "metadata": {},
   "outputs": [],
   "source": [
    "import numpy as np\n",
    "import pandas as pd\n",
    "from metrics import precision_at_k, recall_at_k\n",
    "\n",
    "# обновляем модуль (удобно при разработке, когда вносим изменения в модуле)\n",
    "import recommenders\n",
    "import importlib\n",
    "importlib.reload(recommenders)\n",
    "\n",
    "from recommenders import MainRecommender\n"
   ]
  },
  {
   "cell_type": "code",
   "execution_count": 2,
   "outputs": [
    {
     "data": {
      "text/plain": "   user_id    basket_id  day  item_id  quantity  sales_value  store_id  \\\n0     2375  26984851472    1  1004906         1         1.39       364   \n1     2375  26984851472    1  1033142         1         0.82       364   \n\n   retail_disc  trans_time  week_no  coupon_disc  coupon_match_disc  \n0         -0.6        1631        1          0.0                0.0  \n1          0.0        1631        1          0.0                0.0  ",
      "text/html": "<div>\n<style scoped>\n    .dataframe tbody tr th:only-of-type {\n        vertical-align: middle;\n    }\n\n    .dataframe tbody tr th {\n        vertical-align: top;\n    }\n\n    .dataframe thead th {\n        text-align: right;\n    }\n</style>\n<table border=\"1\" class=\"dataframe\">\n  <thead>\n    <tr style=\"text-align: right;\">\n      <th></th>\n      <th>user_id</th>\n      <th>basket_id</th>\n      <th>day</th>\n      <th>item_id</th>\n      <th>quantity</th>\n      <th>sales_value</th>\n      <th>store_id</th>\n      <th>retail_disc</th>\n      <th>trans_time</th>\n      <th>week_no</th>\n      <th>coupon_disc</th>\n      <th>coupon_match_disc</th>\n    </tr>\n  </thead>\n  <tbody>\n    <tr>\n      <th>0</th>\n      <td>2375</td>\n      <td>26984851472</td>\n      <td>1</td>\n      <td>1004906</td>\n      <td>1</td>\n      <td>1.39</td>\n      <td>364</td>\n      <td>-0.6</td>\n      <td>1631</td>\n      <td>1</td>\n      <td>0.0</td>\n      <td>0.0</td>\n    </tr>\n    <tr>\n      <th>1</th>\n      <td>2375</td>\n      <td>26984851472</td>\n      <td>1</td>\n      <td>1033142</td>\n      <td>1</td>\n      <td>0.82</td>\n      <td>364</td>\n      <td>0.0</td>\n      <td>1631</td>\n      <td>1</td>\n      <td>0.0</td>\n      <td>0.0</td>\n    </tr>\n  </tbody>\n</table>\n</div>"
     },
     "execution_count": 2,
     "metadata": {},
     "output_type": "execute_result"
    }
   ],
   "source": [
    "data = pd.read_csv('../data/transaction_data.csv')\n",
    "\n",
    "data.columns = [col.lower() for col in data.columns]\n",
    "data.rename(columns={'household_key': 'user_id',\n",
    "                     'product_id': 'item_id'},\n",
    "            inplace=True)\n",
    "\n",
    "\n",
    "test_size_weeks = 3\n",
    "\n",
    "data_train = data[data['week_no'] < data['week_no'].max() - test_size_weeks]\n",
    "data_test = data[data['week_no'] >= data['week_no'].max() - test_size_weeks]\n",
    "\n",
    "data_train.head(2)"
   ],
   "metadata": {
    "collapsed": false,
    "pycharm": {
     "name": "#%%\n"
    }
   }
  },
  {
   "cell_type": "code",
   "execution_count": 3,
   "outputs": [
    {
     "data": {
      "text/plain": "   item_id  manufacturer    department     brand            commodity_desc  \\\n0    25671             2       GROCERY  National                  FRZN ICE   \n1    26081             2  MISC. TRANS.  National  NO COMMODITY DESCRIPTION   \n\n            sub_commodity_desc curr_size_of_product  \n0          ICE - CRUSHED/CUBED                22 LB  \n1  NO SUBCOMMODITY DESCRIPTION                       ",
      "text/html": "<div>\n<style scoped>\n    .dataframe tbody tr th:only-of-type {\n        vertical-align: middle;\n    }\n\n    .dataframe tbody tr th {\n        vertical-align: top;\n    }\n\n    .dataframe thead th {\n        text-align: right;\n    }\n</style>\n<table border=\"1\" class=\"dataframe\">\n  <thead>\n    <tr style=\"text-align: right;\">\n      <th></th>\n      <th>item_id</th>\n      <th>manufacturer</th>\n      <th>department</th>\n      <th>brand</th>\n      <th>commodity_desc</th>\n      <th>sub_commodity_desc</th>\n      <th>curr_size_of_product</th>\n    </tr>\n  </thead>\n  <tbody>\n    <tr>\n      <th>0</th>\n      <td>25671</td>\n      <td>2</td>\n      <td>GROCERY</td>\n      <td>National</td>\n      <td>FRZN ICE</td>\n      <td>ICE - CRUSHED/CUBED</td>\n      <td>22 LB</td>\n    </tr>\n    <tr>\n      <th>1</th>\n      <td>26081</td>\n      <td>2</td>\n      <td>MISC. TRANS.</td>\n      <td>National</td>\n      <td>NO COMMODITY DESCRIPTION</td>\n      <td>NO SUBCOMMODITY DESCRIPTION</td>\n      <td></td>\n    </tr>\n  </tbody>\n</table>\n</div>"
     },
     "execution_count": 3,
     "metadata": {},
     "output_type": "execute_result"
    }
   ],
   "source": [
    "item_features = pd.read_csv('../data/product.csv')\n",
    "item_features.columns = [col.lower() for col in item_features.columns]\n",
    "item_features.rename(columns={'product_id': 'item_id'}, inplace=True)\n",
    "\n",
    "item_features.head(2)"
   ],
   "metadata": {
    "collapsed": false,
    "pycharm": {
     "name": "#%%\n"
    }
   }
  },
  {
   "cell_type": "code",
   "execution_count": 4,
   "outputs": [
    {
     "data": {
      "text/plain": "   user_id                                             actual\n0        1  [879517, 934369, 1115576, 1124029, 5572301, 65...\n1        3  [823704, 834117, 840244, 913785, 917816, 93870...",
      "text/html": "<div>\n<style scoped>\n    .dataframe tbody tr th:only-of-type {\n        vertical-align: middle;\n    }\n\n    .dataframe tbody tr th {\n        vertical-align: top;\n    }\n\n    .dataframe thead th {\n        text-align: right;\n    }\n</style>\n<table border=\"1\" class=\"dataframe\">\n  <thead>\n    <tr style=\"text-align: right;\">\n      <th></th>\n      <th>user_id</th>\n      <th>actual</th>\n    </tr>\n  </thead>\n  <tbody>\n    <tr>\n      <th>0</th>\n      <td>1</td>\n      <td>[879517, 934369, 1115576, 1124029, 5572301, 65...</td>\n    </tr>\n    <tr>\n      <th>1</th>\n      <td>3</td>\n      <td>[823704, 834117, 840244, 913785, 917816, 93870...</td>\n    </tr>\n  </tbody>\n</table>\n</div>"
     },
     "execution_count": 4,
     "metadata": {},
     "output_type": "execute_result"
    }
   ],
   "source": [
    "result = data_test.groupby('user_id')['item_id'].unique().reset_index()\n",
    "result.columns=['user_id', 'actual']\n",
    "result.head(2)"
   ],
   "metadata": {
    "collapsed": false,
    "pycharm": {
     "name": "#%%\n"
    }
   }
  },
  {
   "cell_type": "code",
   "execution_count": 5,
   "outputs": [
    {
     "name": "stderr",
     "output_type": "stream",
     "text": [
      "/Users/vladimir/DataspellProjects/GB-Recommender-Systems/Lesson_4/utils.py:20: SettingWithCopyWarning: \n",
      "A value is trying to be set on a copy of a slice from a DataFrame.\n",
      "Try using .loc[row_indexer,col_indexer] = value instead\n",
      "\n",
      "See the caveats in the documentation: https://pandas.pydata.org/pandas-docs/stable/user_guide/indexing.html#returning-a-view-versus-a-copy\n",
      "  data['price'] = data['sales_value'] / (np.maximum(data['quantity'], 1))\n"
     ]
    },
    {
     "name": "stdout",
     "output_type": "stream",
     "text": [
      "Decreased # items from 90386 to 5001\n"
     ]
    },
    {
     "data": {
      "text/plain": "  0%|          | 0/15 [00:00<?, ?it/s]",
      "application/vnd.jupyter.widget-view+json": {
       "version_major": 2,
       "version_minor": 0,
       "model_id": "ab826458596a4e3f8b59c437184ac558"
      }
     },
     "metadata": {},
     "output_type": "display_data"
    },
    {
     "data": {
      "text/plain": "  0%|          | 0/5001 [00:00<?, ?it/s]",
      "application/vnd.jupyter.widget-view+json": {
       "version_major": 2,
       "version_minor": 0,
       "model_id": "12c0d41f05104cfd8dcac84cf904ea8f"
      }
     },
     "metadata": {},
     "output_type": "display_data"
    }
   ],
   "source": [
    "main_recommender = MainRecommender(data_train, prefilter_n_popular=5000, prefilter_item_features=item_features)"
   ],
   "metadata": {
    "collapsed": false,
    "pycharm": {
     "name": "#%%\n"
    }
   }
  },
  {
   "cell_type": "code",
   "execution_count": 6,
   "outputs": [
    {
     "data": {
      "text/plain": "   user_id                                             actual  \\\n0        1  [879517, 934369, 1115576, 1124029, 5572301, 65...   \n1        3  [823704, 834117, 840244, 913785, 917816, 93870...   \n2        5                         [913077, 1118028, 1386668]   \n3        6  [825541, 859676, 999318, 1055646, 1067606, 108...   \n4        7  [929248, 948622, 1013572, 1022003, 1049892, 10...   \n\n                    similar_items_recommendation  \n0   [839818, 1007512, 9297615, 5577022, 9803545]  \n1    [1044078, 1024051, 1000736, 839419, 994994]  \n2    [12262778, 838882, 6391152, 946839, 942778]  \n3     [948650, 5569845, 1105488, 934639, 941361]  \n4  [5585510, 1044078, 12352330, 7147145, 995478]  ",
      "text/html": "<div>\n<style scoped>\n    .dataframe tbody tr th:only-of-type {\n        vertical-align: middle;\n    }\n\n    .dataframe tbody tr th {\n        vertical-align: top;\n    }\n\n    .dataframe thead th {\n        text-align: right;\n    }\n</style>\n<table border=\"1\" class=\"dataframe\">\n  <thead>\n    <tr style=\"text-align: right;\">\n      <th></th>\n      <th>user_id</th>\n      <th>actual</th>\n      <th>similar_items_recommendation</th>\n    </tr>\n  </thead>\n  <tbody>\n    <tr>\n      <th>0</th>\n      <td>1</td>\n      <td>[879517, 934369, 1115576, 1124029, 5572301, 65...</td>\n      <td>[839818, 1007512, 9297615, 5577022, 9803545]</td>\n    </tr>\n    <tr>\n      <th>1</th>\n      <td>3</td>\n      <td>[823704, 834117, 840244, 913785, 917816, 93870...</td>\n      <td>[1044078, 1024051, 1000736, 839419, 994994]</td>\n    </tr>\n    <tr>\n      <th>2</th>\n      <td>5</td>\n      <td>[913077, 1118028, 1386668]</td>\n      <td>[12262778, 838882, 6391152, 946839, 942778]</td>\n    </tr>\n    <tr>\n      <th>3</th>\n      <td>6</td>\n      <td>[825541, 859676, 999318, 1055646, 1067606, 108...</td>\n      <td>[948650, 5569845, 1105488, 934639, 941361]</td>\n    </tr>\n    <tr>\n      <th>4</th>\n      <td>7</td>\n      <td>[929248, 948622, 1013572, 1022003, 1049892, 10...</td>\n      <td>[5585510, 1044078, 12352330, 7147145, 995478]</td>\n    </tr>\n  </tbody>\n</table>\n</div>"
     },
     "execution_count": 6,
     "metadata": {},
     "output_type": "execute_result"
    }
   ],
   "source": [
    "result['similar_items_recommendation'] = [main_recommender.get_similar_items_recommendation(user_id=x, N=5) for x in result.user_id]\n",
    "result.head(5)"
   ],
   "metadata": {
    "collapsed": false,
    "pycharm": {
     "name": "#%%\n"
    }
   }
  },
  {
   "cell_type": "code",
   "execution_count": 7,
   "outputs": [
    {
     "data": {
      "text/plain": "   user_id                                             actual  \\\n0        1  [879517, 934369, 1115576, 1124029, 5572301, 65...   \n1        3  [823704, 834117, 840244, 913785, 917816, 93870...   \n2        5                         [913077, 1118028, 1386668]   \n3        6  [825541, 859676, 999318, 1055646, 1067606, 108...   \n4        7  [929248, 948622, 1013572, 1022003, 1049892, 10...   \n\n                    similar_items_recommendation  \\\n0   [839818, 1007512, 9297615, 5577022, 9803545]   \n1    [1044078, 1024051, 1000736, 839419, 994994]   \n2    [12262778, 838882, 6391152, 946839, 942778]   \n3     [948650, 5569845, 1105488, 934639, 941361]   \n4  [5585510, 1044078, 12352330, 7147145, 995478]   \n\n                    similar_users_recommendation  \n0     [856942, 1127831, 1070820, 947412, 866211]  \n1  [1106523, 1029743, 8090521, 8090521, 1029743]  \n2    [874972, 1106523, 1076842, 830245, 1029743]  \n3    [863447, 1113675, 959737, 1026118, 1137284]  \n4  [1122358, 1127831, 1126899, 1070820, 6552318]  ",
      "text/html": "<div>\n<style scoped>\n    .dataframe tbody tr th:only-of-type {\n        vertical-align: middle;\n    }\n\n    .dataframe tbody tr th {\n        vertical-align: top;\n    }\n\n    .dataframe thead th {\n        text-align: right;\n    }\n</style>\n<table border=\"1\" class=\"dataframe\">\n  <thead>\n    <tr style=\"text-align: right;\">\n      <th></th>\n      <th>user_id</th>\n      <th>actual</th>\n      <th>similar_items_recommendation</th>\n      <th>similar_users_recommendation</th>\n    </tr>\n  </thead>\n  <tbody>\n    <tr>\n      <th>0</th>\n      <td>1</td>\n      <td>[879517, 934369, 1115576, 1124029, 5572301, 65...</td>\n      <td>[839818, 1007512, 9297615, 5577022, 9803545]</td>\n      <td>[856942, 1127831, 1070820, 947412, 866211]</td>\n    </tr>\n    <tr>\n      <th>1</th>\n      <td>3</td>\n      <td>[823704, 834117, 840244, 913785, 917816, 93870...</td>\n      <td>[1044078, 1024051, 1000736, 839419, 994994]</td>\n      <td>[1106523, 1029743, 8090521, 8090521, 1029743]</td>\n    </tr>\n    <tr>\n      <th>2</th>\n      <td>5</td>\n      <td>[913077, 1118028, 1386668]</td>\n      <td>[12262778, 838882, 6391152, 946839, 942778]</td>\n      <td>[874972, 1106523, 1076842, 830245, 1029743]</td>\n    </tr>\n    <tr>\n      <th>3</th>\n      <td>6</td>\n      <td>[825541, 859676, 999318, 1055646, 1067606, 108...</td>\n      <td>[948650, 5569845, 1105488, 934639, 941361]</td>\n      <td>[863447, 1113675, 959737, 1026118, 1137284]</td>\n    </tr>\n    <tr>\n      <th>4</th>\n      <td>7</td>\n      <td>[929248, 948622, 1013572, 1022003, 1049892, 10...</td>\n      <td>[5585510, 1044078, 12352330, 7147145, 995478]</td>\n      <td>[1122358, 1127831, 1126899, 1070820, 6552318]</td>\n    </tr>\n  </tbody>\n</table>\n</div>"
     },
     "execution_count": 7,
     "metadata": {},
     "output_type": "execute_result"
    }
   ],
   "source": [
    "result['similar_users_recommendation'] = [main_recommender.get_similar_users_recommendation(user_id=x, N=5) for x in result.user_id]\n",
    "result.head(5)"
   ],
   "metadata": {
    "collapsed": false,
    "pycharm": {
     "name": "#%%\n"
    }
   }
  },
  {
   "cell_type": "code",
   "execution_count": 8,
   "outputs": [
    {
     "name": "stdout",
     "output_type": "stream",
     "text": [
      "1.0:actual\n",
      "0.053:similar_items_recommendation\n",
      "0.1252:similar_users_recommendation\n"
     ]
    },
    {
     "name": "stderr",
     "output_type": "stream",
     "text": [
      "/Users/vladimir/opt/anaconda3/envs/DataScience/lib/python3.7/site-packages/numpy/lib/arraysetops.py:608: FutureWarning: elementwise comparison failed; returning scalar instead, but in the future will perform elementwise comparison\n",
      "  mask |= (ar1 == a)\n"
     ]
    }
   ],
   "source": [
    "for name_col in result.columns[1:]:\n",
    "    print(f\"{round(result.apply(lambda row: precision_at_k(row[name_col], row['actual']), axis=1).mean(),4)}:{name_col}\")"
   ],
   "metadata": {
    "collapsed": false,
    "pycharm": {
     "name": "#%%\n"
    }
   }
  },
  {
   "cell_type": "code",
   "execution_count": null,
   "outputs": [],
   "source": [],
   "metadata": {
    "collapsed": false,
    "pycharm": {
     "name": "#%%\n"
    }
   }
  }
 ],
 "metadata": {
  "kernelspec": {
   "display_name": "Python 3",
   "language": "python",
   "name": "python3"
  },
  "language_info": {
   "codemirror_mode": {
    "name": "ipython",
    "version": 3
   },
   "file_extension": ".py",
   "mimetype": "text/x-python",
   "name": "python",
   "nbconvert_exporter": "python",
   "pygments_lexer": "ipython3",
   "version": "3.7.4"
  }
 },
 "nbformat": 4,
 "nbformat_minor": 2
}