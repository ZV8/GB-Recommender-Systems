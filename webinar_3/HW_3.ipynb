{
 "cells": [
  {
   "cell_type": "markdown",
   "source": [
    "# Вебинар 3. Коллаборативная фильтрация"
   ],
   "metadata": {
    "collapsed": false
   }
  },
  {
   "cell_type": "markdown",
   "source": [
    "# ДЗ\n",
    "\n",
    "1) Попытаться ответить на вопросы/выдвинуть гипотезы (в конце ноутбука)\n",
    "\n",
    "2) Доделать прошлые домашния задания\n",
    "\n",
    "3) Прочитать статьи BM25/MatrixFactorization\n",
    "\n",
    "## Практика:\n",
    "\n",
    "4) Поэкспериментировать с ALS (grid-search)"
   ],
   "metadata": {
    "collapsed": false
   }
  },
  {
   "cell_type": "markdown",
   "source": [
    "# 4. Поэкспериментировать с ALS (grid-search)"
   ],
   "metadata": {
    "collapsed": false
   }
  },
  {
   "cell_type": "code",
   "execution_count": 2,
   "outputs": [],
   "source": [
    "import pandas as pd\n",
    "import numpy as np\n",
    "import matplotlib.pyplot as plt\n",
    "%matplotlib inline\n",
    "\n",
    "# Для работы с матрицами\n",
    "from scipy.sparse import csr_matrix\n",
    "\n",
    "# Матричная факторизация\n",
    "from implicit.als import AlternatingLeastSquares\n",
    "from implicit.nearest_neighbours import bm25_weight, tfidf_weight\n",
    "\n",
    "# Функции из 1-ого вебинара\n",
    "import os, sys\n",
    "\n",
    "if not sys.warnoptions:\n",
    "    import warnings\n",
    "    warnings.simplefilter(\"ignore\")\n",
    "\n",
    "module_path = os.path.abspath(os.path.join(os.pardir))\n",
    "if module_path not in sys.path:\n",
    "    sys.path.append(module_path)\n",
    "    \n",
    "from metrics import precision_at_k, recall_at_k"
   ],
   "metadata": {
    "collapsed": false,
    "pycharm": {
     "name": "#%%\n"
    }
   }
  },
  {
   "cell_type": "code",
   "execution_count": 3,
   "outputs": [
    {
     "data": {
      "text/plain": "   user_id    basket_id  day  item_id  quantity  sales_value  store_id  \\\n0     2375  26984851472    1  1004906         1         1.39       364   \n1     2375  26984851472    1  1033142         1         0.82       364   \n2     2375  26984851472    1  1036325         1         0.99       364   \n3     2375  26984851472    1  1082185         1         1.21       364   \n4     2375  26984851472    1  8160430         1         1.50       364   \n\n   retail_disc  trans_time  week_no  coupon_disc  coupon_match_disc  \n0        -0.60        1631        1          0.0                0.0  \n1         0.00        1631        1          0.0                0.0  \n2        -0.30        1631        1          0.0                0.0  \n3         0.00        1631        1          0.0                0.0  \n4        -0.39        1631        1          0.0                0.0  ",
      "text/html": "<div>\n<style scoped>\n    .dataframe tbody tr th:only-of-type {\n        vertical-align: middle;\n    }\n\n    .dataframe tbody tr th {\n        vertical-align: top;\n    }\n\n    .dataframe thead th {\n        text-align: right;\n    }\n</style>\n<table border=\"1\" class=\"dataframe\">\n  <thead>\n    <tr style=\"text-align: right;\">\n      <th></th>\n      <th>user_id</th>\n      <th>basket_id</th>\n      <th>day</th>\n      <th>item_id</th>\n      <th>quantity</th>\n      <th>sales_value</th>\n      <th>store_id</th>\n      <th>retail_disc</th>\n      <th>trans_time</th>\n      <th>week_no</th>\n      <th>coupon_disc</th>\n      <th>coupon_match_disc</th>\n    </tr>\n  </thead>\n  <tbody>\n    <tr>\n      <th>0</th>\n      <td>2375</td>\n      <td>26984851472</td>\n      <td>1</td>\n      <td>1004906</td>\n      <td>1</td>\n      <td>1.39</td>\n      <td>364</td>\n      <td>-0.60</td>\n      <td>1631</td>\n      <td>1</td>\n      <td>0.0</td>\n      <td>0.0</td>\n    </tr>\n    <tr>\n      <th>1</th>\n      <td>2375</td>\n      <td>26984851472</td>\n      <td>1</td>\n      <td>1033142</td>\n      <td>1</td>\n      <td>0.82</td>\n      <td>364</td>\n      <td>0.00</td>\n      <td>1631</td>\n      <td>1</td>\n      <td>0.0</td>\n      <td>0.0</td>\n    </tr>\n    <tr>\n      <th>2</th>\n      <td>2375</td>\n      <td>26984851472</td>\n      <td>1</td>\n      <td>1036325</td>\n      <td>1</td>\n      <td>0.99</td>\n      <td>364</td>\n      <td>-0.30</td>\n      <td>1631</td>\n      <td>1</td>\n      <td>0.0</td>\n      <td>0.0</td>\n    </tr>\n    <tr>\n      <th>3</th>\n      <td>2375</td>\n      <td>26984851472</td>\n      <td>1</td>\n      <td>1082185</td>\n      <td>1</td>\n      <td>1.21</td>\n      <td>364</td>\n      <td>0.00</td>\n      <td>1631</td>\n      <td>1</td>\n      <td>0.0</td>\n      <td>0.0</td>\n    </tr>\n    <tr>\n      <th>4</th>\n      <td>2375</td>\n      <td>26984851472</td>\n      <td>1</td>\n      <td>8160430</td>\n      <td>1</td>\n      <td>1.50</td>\n      <td>364</td>\n      <td>-0.39</td>\n      <td>1631</td>\n      <td>1</td>\n      <td>0.0</td>\n      <td>0.0</td>\n    </tr>\n  </tbody>\n</table>\n</div>"
     },
     "execution_count": 3,
     "metadata": {},
     "output_type": "execute_result"
    }
   ],
   "source": [
    "data = pd.read_csv('../data/transaction_data.csv')\n",
    "\n",
    "data.columns = [col.lower() for col in data.columns]\n",
    "data.rename(columns={'household_key': 'user_id',\n",
    "                    'product_id': 'item_id'},\n",
    "           inplace=True)\n",
    "\n",
    "\n",
    "test_size_weeks = 3\n",
    "\n",
    "data_train = data[data['week_no'] < data['week_no'].max() - test_size_weeks]\n",
    "data_test = data[data['week_no'] >= data['week_no'].max() - test_size_weeks]\n",
    "\n",
    "data_train.head(5)"
   ],
   "metadata": {
    "collapsed": false,
    "pycharm": {
     "name": "#%%\n"
    }
   }
  },
  {
   "cell_type": "code",
   "execution_count": 4,
   "outputs": [
    {
     "data": {
      "text/plain": "   item_id  manufacturer    department     brand            commodity_desc  \\\n0    25671             2       GROCERY  National                  FRZN ICE   \n1    26081             2  MISC. TRANS.  National  NO COMMODITY DESCRIPTION   \n\n            sub_commodity_desc curr_size_of_product  \n0          ICE - CRUSHED/CUBED                22 LB  \n1  NO SUBCOMMODITY DESCRIPTION                       ",
      "text/html": "<div>\n<style scoped>\n    .dataframe tbody tr th:only-of-type {\n        vertical-align: middle;\n    }\n\n    .dataframe tbody tr th {\n        vertical-align: top;\n    }\n\n    .dataframe thead th {\n        text-align: right;\n    }\n</style>\n<table border=\"1\" class=\"dataframe\">\n  <thead>\n    <tr style=\"text-align: right;\">\n      <th></th>\n      <th>item_id</th>\n      <th>manufacturer</th>\n      <th>department</th>\n      <th>brand</th>\n      <th>commodity_desc</th>\n      <th>sub_commodity_desc</th>\n      <th>curr_size_of_product</th>\n    </tr>\n  </thead>\n  <tbody>\n    <tr>\n      <th>0</th>\n      <td>25671</td>\n      <td>2</td>\n      <td>GROCERY</td>\n      <td>National</td>\n      <td>FRZN ICE</td>\n      <td>ICE - CRUSHED/CUBED</td>\n      <td>22 LB</td>\n    </tr>\n    <tr>\n      <th>1</th>\n      <td>26081</td>\n      <td>2</td>\n      <td>MISC. TRANS.</td>\n      <td>National</td>\n      <td>NO COMMODITY DESCRIPTION</td>\n      <td>NO SUBCOMMODITY DESCRIPTION</td>\n      <td></td>\n    </tr>\n  </tbody>\n</table>\n</div>"
     },
     "execution_count": 4,
     "metadata": {},
     "output_type": "execute_result"
    }
   ],
   "source": [
    "item_features = pd.read_csv('../data/product.csv')\n",
    "item_features.columns = [col.lower() for col in item_features.columns]\n",
    "item_features.rename(columns={'product_id': 'item_id'}, inplace=True)\n",
    "\n",
    "item_features.head(2)"
   ],
   "metadata": {
    "collapsed": false,
    "pycharm": {
     "name": "#%%\n"
    }
   }
  },
  {
   "cell_type": "code",
   "execution_count": 5,
   "outputs": [
    {
     "data": {
      "text/plain": "array(['GROCERY', 'MISC. TRANS.', 'PASTRY', 'DRUG GM', 'MEAT-PCKGD',\n       'SEAFOOD-PCKGD', 'PRODUCE', 'NUTRITION', 'DELI', 'COSMETICS',\n       'MEAT', 'FLORAL', 'TRAVEL & LEISUR', 'SEAFOOD', 'MISC SALES TRAN',\n       'SALAD BAR', 'KIOSK-GAS', 'ELECT &PLUMBING', 'GRO BAKERY',\n       'GM MERCH EXP', 'FROZEN GROCERY', 'COUP/STR & MFG', 'SPIRITS',\n       'GARDEN CENTER', 'TOYS', 'CHARITABLE CONT', 'RESTAURANT', 'RX',\n       'PROD-WHS SALES', 'MEAT-WHSE', 'DAIRY DELI', 'CHEF SHOPPE', 'HBC',\n       'DELI/SNACK BAR', 'PORK', 'AUTOMOTIVE', 'VIDEO RENTAL', ' ',\n       'CNTRL/STORE SUP', 'HOUSEWARES', 'POSTAL CENTER', 'PHOTO', 'VIDEO',\n       'PHARMACY SUPPLY'], dtype=object)"
     },
     "execution_count": 5,
     "metadata": {},
     "output_type": "execute_result"
    }
   ],
   "source": [
    "item_features.department.unique()"
   ],
   "metadata": {
    "collapsed": false,
    "pycharm": {
     "name": "#%%\n"
    }
   }
  },
  {
   "cell_type": "code",
   "execution_count": 6,
   "outputs": [
    {
     "data": {
      "text/plain": "   user_id                                             actual\n0        1  [879517, 934369, 1115576, 1124029, 5572301, 65...\n1        3  [823704, 834117, 840244, 913785, 917816, 93870...",
      "text/html": "<div>\n<style scoped>\n    .dataframe tbody tr th:only-of-type {\n        vertical-align: middle;\n    }\n\n    .dataframe tbody tr th {\n        vertical-align: top;\n    }\n\n    .dataframe thead th {\n        text-align: right;\n    }\n</style>\n<table border=\"1\" class=\"dataframe\">\n  <thead>\n    <tr style=\"text-align: right;\">\n      <th></th>\n      <th>user_id</th>\n      <th>actual</th>\n    </tr>\n  </thead>\n  <tbody>\n    <tr>\n      <th>0</th>\n      <td>1</td>\n      <td>[879517, 934369, 1115576, 1124029, 5572301, 65...</td>\n    </tr>\n    <tr>\n      <th>1</th>\n      <td>3</td>\n      <td>[823704, 834117, 840244, 913785, 917816, 93870...</td>\n    </tr>\n  </tbody>\n</table>\n</div>"
     },
     "execution_count": 6,
     "metadata": {},
     "output_type": "execute_result"
    }
   ],
   "source": [
    "result = data_test.groupby('user_id')['item_id'].unique().reset_index()\n",
    "result.columns=['user_id', 'actual']\n",
    "result.head(2)"
   ],
   "metadata": {
    "collapsed": false,
    "pycharm": {
     "name": "#%%\n"
    }
   }
  },
  {
   "cell_type": "code",
   "execution_count": 7,
   "outputs": [],
   "source": [
    "popularity = data_train.groupby('item_id')['quantity'].sum().reset_index()\n",
    "popularity.rename(columns={'quantity': 'n_sold'}, inplace=True)\n",
    "\n",
    "top_5000 = popularity.sort_values('n_sold', ascending=False).head(5000).item_id.tolist()"
   ],
   "metadata": {
    "collapsed": false,
    "pycharm": {
     "name": "#%%\n"
    }
   }
  },
  {
   "cell_type": "code",
   "execution_count": 8,
   "outputs": [
    {
     "data": {
      "text/plain": "item_id  202291    397896    420647    480014    545926    707683    731106    \\\nuser_id                                                                         \n1             0.0       0.0       0.0       0.0       0.0       0.0       0.0   \n2             0.0       0.0       0.0       0.0       0.0       0.0       0.0   \n3             0.0       0.0       0.0       0.0       0.0       0.0       0.0   \n\nitem_id  818980    819063    819227    ...  15926885  15926886  15926887  \\\nuser_id                                ...                                 \n1             0.0       0.0       0.0  ...       0.0       0.0       0.0   \n2             0.0       0.0       0.0  ...       0.0       0.0       0.0   \n3             0.0       0.0       0.0  ...       0.0       0.0       0.0   \n\nitem_id  15926927  15927033  15927403  15927661  15927850  16809471  17105257  \nuser_id                                                                        \n1             2.0       0.0       0.0       0.0       0.0       0.0       0.0  \n2             1.0       0.0       0.0       0.0       0.0       0.0       0.0  \n3             0.0       0.0       0.0       0.0       0.0       0.0       0.0  \n\n[3 rows x 5001 columns]",
      "text/html": "<div>\n<style scoped>\n    .dataframe tbody tr th:only-of-type {\n        vertical-align: middle;\n    }\n\n    .dataframe tbody tr th {\n        vertical-align: top;\n    }\n\n    .dataframe thead th {\n        text-align: right;\n    }\n</style>\n<table border=\"1\" class=\"dataframe\">\n  <thead>\n    <tr style=\"text-align: right;\">\n      <th>item_id</th>\n      <th>202291</th>\n      <th>397896</th>\n      <th>420647</th>\n      <th>480014</th>\n      <th>545926</th>\n      <th>707683</th>\n      <th>731106</th>\n      <th>818980</th>\n      <th>819063</th>\n      <th>819227</th>\n      <th>...</th>\n      <th>15926885</th>\n      <th>15926886</th>\n      <th>15926887</th>\n      <th>15926927</th>\n      <th>15927033</th>\n      <th>15927403</th>\n      <th>15927661</th>\n      <th>15927850</th>\n      <th>16809471</th>\n      <th>17105257</th>\n    </tr>\n    <tr>\n      <th>user_id</th>\n      <th></th>\n      <th></th>\n      <th></th>\n      <th></th>\n      <th></th>\n      <th></th>\n      <th></th>\n      <th></th>\n      <th></th>\n      <th></th>\n      <th></th>\n      <th></th>\n      <th></th>\n      <th></th>\n      <th></th>\n      <th></th>\n      <th></th>\n      <th></th>\n      <th></th>\n      <th></th>\n      <th></th>\n    </tr>\n  </thead>\n  <tbody>\n    <tr>\n      <th>1</th>\n      <td>0.0</td>\n      <td>0.0</td>\n      <td>0.0</td>\n      <td>0.0</td>\n      <td>0.0</td>\n      <td>0.0</td>\n      <td>0.0</td>\n      <td>0.0</td>\n      <td>0.0</td>\n      <td>0.0</td>\n      <td>...</td>\n      <td>0.0</td>\n      <td>0.0</td>\n      <td>0.0</td>\n      <td>2.0</td>\n      <td>0.0</td>\n      <td>0.0</td>\n      <td>0.0</td>\n      <td>0.0</td>\n      <td>0.0</td>\n      <td>0.0</td>\n    </tr>\n    <tr>\n      <th>2</th>\n      <td>0.0</td>\n      <td>0.0</td>\n      <td>0.0</td>\n      <td>0.0</td>\n      <td>0.0</td>\n      <td>0.0</td>\n      <td>0.0</td>\n      <td>0.0</td>\n      <td>0.0</td>\n      <td>0.0</td>\n      <td>...</td>\n      <td>0.0</td>\n      <td>0.0</td>\n      <td>0.0</td>\n      <td>1.0</td>\n      <td>0.0</td>\n      <td>0.0</td>\n      <td>0.0</td>\n      <td>0.0</td>\n      <td>0.0</td>\n      <td>0.0</td>\n    </tr>\n    <tr>\n      <th>3</th>\n      <td>0.0</td>\n      <td>0.0</td>\n      <td>0.0</td>\n      <td>0.0</td>\n      <td>0.0</td>\n      <td>0.0</td>\n      <td>0.0</td>\n      <td>0.0</td>\n      <td>0.0</td>\n      <td>0.0</td>\n      <td>...</td>\n      <td>0.0</td>\n      <td>0.0</td>\n      <td>0.0</td>\n      <td>0.0</td>\n      <td>0.0</td>\n      <td>0.0</td>\n      <td>0.0</td>\n      <td>0.0</td>\n      <td>0.0</td>\n      <td>0.0</td>\n    </tr>\n  </tbody>\n</table>\n<p>3 rows × 5001 columns</p>\n</div>"
     },
     "execution_count": 8,
     "metadata": {},
     "output_type": "execute_result"
    }
   ],
   "source": [
    "# Заведем фиктивный item_id\n",
    "\n",
    "data_train.loc[~data_train['item_id'].isin(top_5000), 'item_id'] = 999_999\n",
    "\n",
    "user_item_matrix = pd.pivot_table(data_train, \n",
    "                                  index='user_id', columns='item_id', \n",
    "                                  values='quantity', # Можно пробоват ьдругие варианты\n",
    "                                  aggfunc='count', \n",
    "                                  fill_value=0\n",
    "                                 )\n",
    "\n",
    "user_item_matrix = user_item_matrix.astype(float) # необходимый тип матрицы для implicit\n",
    "\n",
    "# переведем в формат saprse matrix\n",
    "sparse_user_item = csr_matrix(user_item_matrix)\n",
    "\n",
    "user_item_matrix.head(3)"
   ],
   "metadata": {
    "collapsed": false,
    "pycharm": {
     "name": "#%%\n"
    }
   }
  },
  {
   "cell_type": "code",
   "execution_count": 9,
   "outputs": [],
   "source": [
    "userids = user_item_matrix.index.values\n",
    "itemids = user_item_matrix.columns.values\n",
    "\n",
    "matrix_userids = np.arange(len(userids))\n",
    "matrix_itemids = np.arange(len(itemids))\n",
    "\n",
    "id_to_itemid = dict(zip(matrix_itemids, itemids))\n",
    "id_to_userid = dict(zip(matrix_userids, userids))\n",
    "\n",
    "itemid_to_id = dict(zip(itemids, matrix_itemids))\n",
    "userid_to_id = dict(zip(userids, matrix_userids))"
   ],
   "metadata": {
    "collapsed": false,
    "pycharm": {
     "name": "#%%\n"
    }
   }
  },
  {
   "cell_type": "markdown",
   "source": [
    "# ALS"
   ],
   "metadata": {
    "collapsed": false
   }
  },
  {
   "cell_type": "code",
   "execution_count": 10,
   "outputs": [],
   "source": [
    "def fit_model(factors=64, regularization=0.05, u_i_matrix='original'):\n",
    "\n",
    "    all_variants_matrix = {\n",
    "        'original' : user_item_matrix,\n",
    "        'tfidf': tfidf_weight(user_item_matrix.T).T,\n",
    "        'bm25': bm25_weight(user_item_matrix.T).T\n",
    "    }\n",
    "\n",
    "    model = AlternatingLeastSquares(factors=factors,\n",
    "                                    regularization=regularization,\n",
    "                                    iterations=15,\n",
    "                                    calculate_training_loss=True,\n",
    "                                    num_threads=4,\n",
    "                                    use_gpu=False)\n",
    "\n",
    "    model.fit(csr_matrix(all_variants_matrix[u_i_matrix]).T.tocsr(),  # На вход item-user matrix\n",
    "              show_progress=True)\n",
    "\n",
    "    return model"
   ],
   "metadata": {
    "collapsed": false,
    "pycharm": {
     "name": "#%%\n"
    }
   }
  },
  {
   "cell_type": "code",
   "execution_count": 11,
   "outputs": [],
   "source": [
    "def get_recommendations(user, model, N=5):\n",
    "    res = [id_to_itemid[rec[0]] for rec in \n",
    "                    model.recommend(userid=userid_to_id[user], \n",
    "                                    user_items=sparse_user_item,   # на вход user-item matrix\n",
    "                                    N=N, \n",
    "                                    filter_already_liked_items=False, \n",
    "                                    filter_items=None, \n",
    "                                    recalculate_user=True)]\n",
    "    return res"
   ],
   "metadata": {
    "collapsed": false,
    "pycharm": {
     "name": "#%%\n"
    }
   }
  },
  {
   "cell_type": "code",
   "execution_count": 12,
   "outputs": [],
   "source": [
    "def grid_search(factors=None, regularizations=None, user_item_matrixes=None):\n",
    "    global result\n",
    "    if factors is None:\n",
    "        factors = [64]\n",
    "    if regularizations is None:\n",
    "        regularizations = [0.05]\n",
    "    if user_item_matrixes is None:\n",
    "        user_item_matrixes = ['original']\n",
    "    scores = pd.DataFrame()\n",
    "    for factor in factors:\n",
    "        for regularization in regularizations:\n",
    "            for matrix in user_item_matrixes:\n",
    "\n",
    "                name_test = f'matrix: {matrix}, factor: {factor}, regularization: {regularization}'\n",
    "\n",
    "                model = fit_model(factors=factor, regularization=regularization, u_i_matrix=matrix)\n",
    "\n",
    "                result[name_test] = result['user_id'].apply(lambda x: get_recommendations(x, model=model, N=5))\n",
    "\n",
    "                score = result.apply(lambda row: precision_at_k(row[name_test], row['actual']), axis=1).mean()\n",
    "                scores = scores.append(pd.DataFrame([score], columns=['score'], index=[name_test]))\n",
    "                print('score:', round(score,4), name_test)\n",
    "\n",
    "    return result, scores.sort_values(by='score', ascending=False)"
   ],
   "metadata": {
    "collapsed": false,
    "pycharm": {
     "name": "#%%\n"
    }
   }
  },
  {
   "cell_type": "code",
   "execution_count": 13,
   "outputs": [
    {
     "data": {
      "text/plain": "  0%|          | 0/15 [00:00<?, ?it/s]",
      "application/vnd.jupyter.widget-view+json": {
       "version_major": 2,
       "version_minor": 0,
       "model_id": "589dafd20e0b4044a913d1b0a7381b00"
      }
     },
     "metadata": {},
     "output_type": "display_data"
    },
    {
     "name": "stdout",
     "output_type": "stream",
     "text": [
      "score: 0.1601 matrix: original, factor: 32, regularization: 0.01\n"
     ]
    },
    {
     "data": {
      "text/plain": "  0%|          | 0/15 [00:00<?, ?it/s]",
      "application/vnd.jupyter.widget-view+json": {
       "version_major": 2,
       "version_minor": 0,
       "model_id": "ee5746f28059497e87699838ac0e5fac"
      }
     },
     "metadata": {},
     "output_type": "display_data"
    },
    {
     "name": "stdout",
     "output_type": "stream",
     "text": [
      "score: 0.1672 matrix: tfidf, factor: 32, regularization: 0.01\n"
     ]
    },
    {
     "data": {
      "text/plain": "  0%|          | 0/15 [00:00<?, ?it/s]",
      "application/vnd.jupyter.widget-view+json": {
       "version_major": 2,
       "version_minor": 0,
       "model_id": "e87a3b8ec64c412fb785e104be508b9d"
      }
     },
     "metadata": {},
     "output_type": "display_data"
    },
    {
     "name": "stdout",
     "output_type": "stream",
     "text": [
      "score: 0.1583 matrix: bm25, factor: 32, regularization: 0.01\n"
     ]
    },
    {
     "data": {
      "text/plain": "  0%|          | 0/15 [00:00<?, ?it/s]",
      "application/vnd.jupyter.widget-view+json": {
       "version_major": 2,
       "version_minor": 0,
       "model_id": "fda0edec7b994d83b670f9cc7c0f3f63"
      }
     },
     "metadata": {},
     "output_type": "display_data"
    },
    {
     "name": "stdout",
     "output_type": "stream",
     "text": [
      "score: 0.1594 matrix: original, factor: 32, regularization: 0.03\n"
     ]
    },
    {
     "data": {
      "text/plain": "  0%|          | 0/15 [00:00<?, ?it/s]",
      "application/vnd.jupyter.widget-view+json": {
       "version_major": 2,
       "version_minor": 0,
       "model_id": "ad4fa318d7dc453f933463175b51e2d2"
      }
     },
     "metadata": {},
     "output_type": "display_data"
    },
    {
     "name": "stdout",
     "output_type": "stream",
     "text": [
      "score: 0.1669 matrix: tfidf, factor: 32, regularization: 0.03\n"
     ]
    },
    {
     "data": {
      "text/plain": "  0%|          | 0/15 [00:00<?, ?it/s]",
      "application/vnd.jupyter.widget-view+json": {
       "version_major": 2,
       "version_minor": 0,
       "model_id": "ce8e7996cb60472b80c0e2f1f6cf183c"
      }
     },
     "metadata": {},
     "output_type": "display_data"
    },
    {
     "name": "stdout",
     "output_type": "stream",
     "text": [
      "score: 0.1606 matrix: bm25, factor: 32, regularization: 0.03\n"
     ]
    },
    {
     "data": {
      "text/plain": "  0%|          | 0/15 [00:00<?, ?it/s]",
      "application/vnd.jupyter.widget-view+json": {
       "version_major": 2,
       "version_minor": 0,
       "model_id": "e8e0a9fcec8d4270b907c5127f448538"
      }
     },
     "metadata": {},
     "output_type": "display_data"
    },
    {
     "name": "stdout",
     "output_type": "stream",
     "text": [
      "score: 0.1639 matrix: original, factor: 32, regularization: 0.05\n"
     ]
    },
    {
     "data": {
      "text/plain": "  0%|          | 0/15 [00:00<?, ?it/s]",
      "application/vnd.jupyter.widget-view+json": {
       "version_major": 2,
       "version_minor": 0,
       "model_id": "de47862329c8422dae4488127732d413"
      }
     },
     "metadata": {},
     "output_type": "display_data"
    },
    {
     "name": "stdout",
     "output_type": "stream",
     "text": [
      "score: 0.1672 matrix: tfidf, factor: 32, regularization: 0.05\n"
     ]
    },
    {
     "data": {
      "text/plain": "  0%|          | 0/15 [00:00<?, ?it/s]",
      "application/vnd.jupyter.widget-view+json": {
       "version_major": 2,
       "version_minor": 0,
       "model_id": "d31eec9cbd7f4d409a39232e6fde839a"
      }
     },
     "metadata": {},
     "output_type": "display_data"
    },
    {
     "name": "stdout",
     "output_type": "stream",
     "text": [
      "score: 0.1589 matrix: bm25, factor: 32, regularization: 0.05\n"
     ]
    },
    {
     "data": {
      "text/plain": "  0%|          | 0/15 [00:00<?, ?it/s]",
      "application/vnd.jupyter.widget-view+json": {
       "version_major": 2,
       "version_minor": 0,
       "model_id": "d7b03abecd724d26ab0fe9ae488d8528"
      }
     },
     "metadata": {},
     "output_type": "display_data"
    },
    {
     "name": "stdout",
     "output_type": "stream",
     "text": [
      "score: 0.151 matrix: original, factor: 64, regularization: 0.01\n"
     ]
    },
    {
     "data": {
      "text/plain": "  0%|          | 0/15 [00:00<?, ?it/s]",
      "application/vnd.jupyter.widget-view+json": {
       "version_major": 2,
       "version_minor": 0,
       "model_id": "941e31863eb0488d9599ddab6151fb54"
      }
     },
     "metadata": {},
     "output_type": "display_data"
    },
    {
     "name": "stdout",
     "output_type": "stream",
     "text": [
      "score: 0.1566 matrix: tfidf, factor: 64, regularization: 0.01\n"
     ]
    },
    {
     "data": {
      "text/plain": "  0%|          | 0/15 [00:00<?, ?it/s]",
      "application/vnd.jupyter.widget-view+json": {
       "version_major": 2,
       "version_minor": 0,
       "model_id": "2a7e60d96fcb4bf1ac996e609de58aa8"
      }
     },
     "metadata": {},
     "output_type": "display_data"
    },
    {
     "name": "stdout",
     "output_type": "stream",
     "text": [
      "score: 0.1737 matrix: bm25, factor: 64, regularization: 0.01\n"
     ]
    },
    {
     "data": {
      "text/plain": "  0%|          | 0/15 [00:00<?, ?it/s]",
      "application/vnd.jupyter.widget-view+json": {
       "version_major": 2,
       "version_minor": 0,
       "model_id": "0ce0ba773a434b5d97c0f1794908ee7d"
      }
     },
     "metadata": {},
     "output_type": "display_data"
    },
    {
     "name": "stdout",
     "output_type": "stream",
     "text": [
      "score: 0.1591 matrix: original, factor: 64, regularization: 0.03\n"
     ]
    },
    {
     "data": {
      "text/plain": "  0%|          | 0/15 [00:00<?, ?it/s]",
      "application/vnd.jupyter.widget-view+json": {
       "version_major": 2,
       "version_minor": 0,
       "model_id": "eb0d9098397f4b50be9416039fcd5970"
      }
     },
     "metadata": {},
     "output_type": "display_data"
    },
    {
     "name": "stdout",
     "output_type": "stream",
     "text": [
      "score: 0.1603 matrix: tfidf, factor: 64, regularization: 0.03\n"
     ]
    },
    {
     "data": {
      "text/plain": "  0%|          | 0/15 [00:00<?, ?it/s]",
      "application/vnd.jupyter.widget-view+json": {
       "version_major": 2,
       "version_minor": 0,
       "model_id": "1da16c6dd50e435cb44ecbf1ea853c75"
      }
     },
     "metadata": {},
     "output_type": "display_data"
    },
    {
     "name": "stdout",
     "output_type": "stream",
     "text": [
      "score: 0.1734 matrix: bm25, factor: 64, regularization: 0.03\n"
     ]
    },
    {
     "data": {
      "text/plain": "  0%|          | 0/15 [00:00<?, ?it/s]",
      "application/vnd.jupyter.widget-view+json": {
       "version_major": 2,
       "version_minor": 0,
       "model_id": "a98a1fb83dae46c9bf5f9b4a23682e5d"
      }
     },
     "metadata": {},
     "output_type": "display_data"
    },
    {
     "name": "stdout",
     "output_type": "stream",
     "text": [
      "score: 0.1578 matrix: original, factor: 64, regularization: 0.05\n"
     ]
    },
    {
     "data": {
      "text/plain": "  0%|          | 0/15 [00:00<?, ?it/s]",
      "application/vnd.jupyter.widget-view+json": {
       "version_major": 2,
       "version_minor": 0,
       "model_id": "925a9073245c4f719e9740390007137b"
      }
     },
     "metadata": {},
     "output_type": "display_data"
    },
    {
     "name": "stdout",
     "output_type": "stream",
     "text": [
      "score: 0.159 matrix: tfidf, factor: 64, regularization: 0.05\n"
     ]
    },
    {
     "data": {
      "text/plain": "  0%|          | 0/15 [00:00<?, ?it/s]",
      "application/vnd.jupyter.widget-view+json": {
       "version_major": 2,
       "version_minor": 0,
       "model_id": "48be9fc6da7a462cb109854c448ad4ec"
      }
     },
     "metadata": {},
     "output_type": "display_data"
    },
    {
     "name": "stdout",
     "output_type": "stream",
     "text": [
      "score: 0.1745 matrix: bm25, factor: 64, regularization: 0.05\n"
     ]
    },
    {
     "data": {
      "text/plain": "  0%|          | 0/15 [00:00<?, ?it/s]",
      "application/vnd.jupyter.widget-view+json": {
       "version_major": 2,
       "version_minor": 0,
       "model_id": "e605566ae2384524b51f9fda5a2da392"
      }
     },
     "metadata": {},
     "output_type": "display_data"
    },
    {
     "name": "stdout",
     "output_type": "stream",
     "text": [
      "score: 0.1474 matrix: original, factor: 128, regularization: 0.01\n"
     ]
    },
    {
     "data": {
      "text/plain": "  0%|          | 0/15 [00:00<?, ?it/s]",
      "application/vnd.jupyter.widget-view+json": {
       "version_major": 2,
       "version_minor": 0,
       "model_id": "abf660e3fbd6487087b38e38edcca949"
      }
     },
     "metadata": {},
     "output_type": "display_data"
    },
    {
     "name": "stdout",
     "output_type": "stream",
     "text": [
      "score: 0.1508 matrix: tfidf, factor: 128, regularization: 0.01\n"
     ]
    },
    {
     "data": {
      "text/plain": "  0%|          | 0/15 [00:00<?, ?it/s]",
      "application/vnd.jupyter.widget-view+json": {
       "version_major": 2,
       "version_minor": 0,
       "model_id": "12bb5c31045348498a9cb5a47efa7ad5"
      }
     },
     "metadata": {},
     "output_type": "display_data"
    },
    {
     "name": "stdout",
     "output_type": "stream",
     "text": [
      "score: 0.1936 matrix: bm25, factor: 128, regularization: 0.01\n"
     ]
    },
    {
     "data": {
      "text/plain": "  0%|          | 0/15 [00:00<?, ?it/s]",
      "application/vnd.jupyter.widget-view+json": {
       "version_major": 2,
       "version_minor": 0,
       "model_id": "8d87cc1d0c9a4c48b6e395892e7c2d7a"
      }
     },
     "metadata": {},
     "output_type": "display_data"
    },
    {
     "name": "stdout",
     "output_type": "stream",
     "text": [
      "score: 0.1484 matrix: original, factor: 128, regularization: 0.03\n"
     ]
    },
    {
     "data": {
      "text/plain": "  0%|          | 0/15 [00:00<?, ?it/s]",
      "application/vnd.jupyter.widget-view+json": {
       "version_major": 2,
       "version_minor": 0,
       "model_id": "692b6e90eee846cfaf317048db22d7c1"
      }
     },
     "metadata": {},
     "output_type": "display_data"
    },
    {
     "name": "stdout",
     "output_type": "stream",
     "text": [
      "score: 0.1518 matrix: tfidf, factor: 128, regularization: 0.03\n"
     ]
    },
    {
     "data": {
      "text/plain": "  0%|          | 0/15 [00:00<?, ?it/s]",
      "application/vnd.jupyter.widget-view+json": {
       "version_major": 2,
       "version_minor": 0,
       "model_id": "3e1cf773b6ff428eb348c0bead81434e"
      }
     },
     "metadata": {},
     "output_type": "display_data"
    },
    {
     "name": "stdout",
     "output_type": "stream",
     "text": [
      "score: 0.19 matrix: bm25, factor: 128, regularization: 0.03\n"
     ]
    },
    {
     "data": {
      "text/plain": "  0%|          | 0/15 [00:00<?, ?it/s]",
      "application/vnd.jupyter.widget-view+json": {
       "version_major": 2,
       "version_minor": 0,
       "model_id": "b5f3b8dc7535493793a0519191a6d9fd"
      }
     },
     "metadata": {},
     "output_type": "display_data"
    },
    {
     "name": "stdout",
     "output_type": "stream",
     "text": [
      "score: 0.1489 matrix: original, factor: 128, regularization: 0.05\n"
     ]
    },
    {
     "data": {
      "text/plain": "  0%|          | 0/15 [00:00<?, ?it/s]",
      "application/vnd.jupyter.widget-view+json": {
       "version_major": 2,
       "version_minor": 0,
       "model_id": "6c2242028f7648eca6d4aa0feaafe4ac"
      }
     },
     "metadata": {},
     "output_type": "display_data"
    },
    {
     "name": "stdout",
     "output_type": "stream",
     "text": [
      "score: 0.1517 matrix: tfidf, factor: 128, regularization: 0.05\n"
     ]
    },
    {
     "data": {
      "text/plain": "  0%|          | 0/15 [00:00<?, ?it/s]",
      "application/vnd.jupyter.widget-view+json": {
       "version_major": 2,
       "version_minor": 0,
       "model_id": "9a3805d69ba440278df83e69d43b9be0"
      }
     },
     "metadata": {},
     "output_type": "display_data"
    },
    {
     "name": "stdout",
     "output_type": "stream",
     "text": [
      "score: 0.1918 matrix: bm25, factor: 128, regularization: 0.05\n",
      "CPU times: user 11min 41s, sys: 36.4 s, total: 12min 18s\n",
      "Wall time: 12min 22s\n"
     ]
    }
   ],
   "source": [
    "%%time\n",
    "\n",
    "result, scores = grid_search(factors=[32, 64, 128],\n",
    "                             regularizations=[0.01, 0.03, 0.05],\n",
    "                             user_item_matrixes=['original', 'tfidf', 'bm25'])"
   ],
   "metadata": {
    "collapsed": false,
    "pycharm": {
     "name": "#%%\n"
    }
   }
  },
  {
   "cell_type": "code",
   "execution_count": 14,
   "outputs": [
    {
     "data": {
      "text/plain": "                                                       score\nmatrix: bm25, factor: 128, regularization: 0.01     0.193571\nmatrix: bm25, factor: 128, regularization: 0.05     0.191763\nmatrix: bm25, factor: 128, regularization: 0.03     0.189955\nmatrix: bm25, factor: 64, regularization: 0.05      0.174485\nmatrix: bm25, factor: 64, regularization: 0.01      0.173682\nmatrix: bm25, factor: 64, regularization: 0.03      0.173380\nmatrix: tfidf, factor: 32, regularization: 0.05     0.167152\nmatrix: tfidf, factor: 32, regularization: 0.01     0.167152\nmatrix: tfidf, factor: 32, regularization: 0.03     0.166851\nmatrix: original, factor: 32, regularization: 0.05  0.163938\nmatrix: bm25, factor: 32, regularization: 0.03      0.160623\nmatrix: tfidf, factor: 64, regularization: 0.03     0.160321\nmatrix: original, factor: 32, regularization: 0.01  0.160121\nmatrix: original, factor: 32, regularization: 0.03  0.159417\nmatrix: original, factor: 64, regularization: 0.03  0.159116\nmatrix: tfidf, factor: 64, regularization: 0.05     0.159016\nmatrix: bm25, factor: 32, regularization: 0.05      0.158915\nmatrix: bm25, factor: 32, regularization: 0.01      0.158312\nmatrix: original, factor: 64, regularization: 0.05  0.157810\nmatrix: tfidf, factor: 64, regularization: 0.01     0.156605\nmatrix: tfidf, factor: 128, regularization: 0.03    0.151783\nmatrix: tfidf, factor: 128, regularization: 0.05    0.151683\nmatrix: original, factor: 64, regularization: 0.01  0.150979\nmatrix: tfidf, factor: 128, regularization: 0.01    0.150779\nmatrix: original, factor: 128, regularization: ...  0.148870\nmatrix: original, factor: 128, regularization: ...  0.148368\nmatrix: original, factor: 128, regularization: ...  0.147363",
      "text/html": "<div>\n<style scoped>\n    .dataframe tbody tr th:only-of-type {\n        vertical-align: middle;\n    }\n\n    .dataframe tbody tr th {\n        vertical-align: top;\n    }\n\n    .dataframe thead th {\n        text-align: right;\n    }\n</style>\n<table border=\"1\" class=\"dataframe\">\n  <thead>\n    <tr style=\"text-align: right;\">\n      <th></th>\n      <th>score</th>\n    </tr>\n  </thead>\n  <tbody>\n    <tr>\n      <th>matrix: bm25, factor: 128, regularization: 0.01</th>\n      <td>0.193571</td>\n    </tr>\n    <tr>\n      <th>matrix: bm25, factor: 128, regularization: 0.05</th>\n      <td>0.191763</td>\n    </tr>\n    <tr>\n      <th>matrix: bm25, factor: 128, regularization: 0.03</th>\n      <td>0.189955</td>\n    </tr>\n    <tr>\n      <th>matrix: bm25, factor: 64, regularization: 0.05</th>\n      <td>0.174485</td>\n    </tr>\n    <tr>\n      <th>matrix: bm25, factor: 64, regularization: 0.01</th>\n      <td>0.173682</td>\n    </tr>\n    <tr>\n      <th>matrix: bm25, factor: 64, regularization: 0.03</th>\n      <td>0.173380</td>\n    </tr>\n    <tr>\n      <th>matrix: tfidf, factor: 32, regularization: 0.05</th>\n      <td>0.167152</td>\n    </tr>\n    <tr>\n      <th>matrix: tfidf, factor: 32, regularization: 0.01</th>\n      <td>0.167152</td>\n    </tr>\n    <tr>\n      <th>matrix: tfidf, factor: 32, regularization: 0.03</th>\n      <td>0.166851</td>\n    </tr>\n    <tr>\n      <th>matrix: original, factor: 32, regularization: 0.05</th>\n      <td>0.163938</td>\n    </tr>\n    <tr>\n      <th>matrix: bm25, factor: 32, regularization: 0.03</th>\n      <td>0.160623</td>\n    </tr>\n    <tr>\n      <th>matrix: tfidf, factor: 64, regularization: 0.03</th>\n      <td>0.160321</td>\n    </tr>\n    <tr>\n      <th>matrix: original, factor: 32, regularization: 0.01</th>\n      <td>0.160121</td>\n    </tr>\n    <tr>\n      <th>matrix: original, factor: 32, regularization: 0.03</th>\n      <td>0.159417</td>\n    </tr>\n    <tr>\n      <th>matrix: original, factor: 64, regularization: 0.03</th>\n      <td>0.159116</td>\n    </tr>\n    <tr>\n      <th>matrix: tfidf, factor: 64, regularization: 0.05</th>\n      <td>0.159016</td>\n    </tr>\n    <tr>\n      <th>matrix: bm25, factor: 32, regularization: 0.05</th>\n      <td>0.158915</td>\n    </tr>\n    <tr>\n      <th>matrix: bm25, factor: 32, regularization: 0.01</th>\n      <td>0.158312</td>\n    </tr>\n    <tr>\n      <th>matrix: original, factor: 64, regularization: 0.05</th>\n      <td>0.157810</td>\n    </tr>\n    <tr>\n      <th>matrix: tfidf, factor: 64, regularization: 0.01</th>\n      <td>0.156605</td>\n    </tr>\n    <tr>\n      <th>matrix: tfidf, factor: 128, regularization: 0.03</th>\n      <td>0.151783</td>\n    </tr>\n    <tr>\n      <th>matrix: tfidf, factor: 128, regularization: 0.05</th>\n      <td>0.151683</td>\n    </tr>\n    <tr>\n      <th>matrix: original, factor: 64, regularization: 0.01</th>\n      <td>0.150979</td>\n    </tr>\n    <tr>\n      <th>matrix: tfidf, factor: 128, regularization: 0.01</th>\n      <td>0.150779</td>\n    </tr>\n    <tr>\n      <th>matrix: original, factor: 128, regularization: 0.05</th>\n      <td>0.148870</td>\n    </tr>\n    <tr>\n      <th>matrix: original, factor: 128, regularization: 0.03</th>\n      <td>0.148368</td>\n    </tr>\n    <tr>\n      <th>matrix: original, factor: 128, regularization: 0.01</th>\n      <td>0.147363</td>\n    </tr>\n  </tbody>\n</table>\n</div>"
     },
     "execution_count": 14,
     "metadata": {},
     "output_type": "execute_result"
    }
   ],
   "source": [
    "scores"
   ],
   "metadata": {
    "collapsed": false,
    "pycharm": {
     "name": "#%%\n"
    }
   }
  },
  {
   "cell_type": "code",
   "execution_count": 15,
   "outputs": [
    {
     "data": {
      "text/plain": "   user_id                                             actual  \\\n0        1  [879517, 934369, 1115576, 1124029, 5572301, 65...   \n1        3  [823704, 834117, 840244, 913785, 917816, 93870...   \n\n  matrix: original, factor: 32, regularization: 0.01  \\\n0         [885290, 1005186, 5569374, 999999, 995242]   \n1          [951590, 883404, 999999, 908531, 1092026]   \n\n  matrix: tfidf, factor: 32, regularization: 0.01  \\\n0     [999999, 1082185, 1100972, 995242, 1005186]   \n1       [951590, 999999, 962229, 1029743, 910032]   \n\n  matrix: bm25, factor: 32, regularization: 0.01  \\\n0     [999999, 1082185, 1004390, 995242, 885290]   \n1      [951590, 999999, 840601, 883404, 8090521]   \n\n  matrix: original, factor: 32, regularization: 0.03  \\\n0         [885290, 1005186, 5569374, 999999, 832678]   \n1          [951590, 962229, 883404, 1106523, 908531]   \n\n  matrix: tfidf, factor: 32, regularization: 0.03  \\\n0     [1100972, 999999, 1051211, 1082185, 995242]   \n1      [999999, 951590, 962229, 1029743, 1082185]   \n\n  matrix: bm25, factor: 32, regularization: 0.03  \\\n0      [999999, 1082185, 995242, 885290, 981760]   \n1      [951590, 999999, 962229, 883404, 1029743]   \n\n  matrix: original, factor: 32, regularization: 0.05  \\\n0        [5569374, 1005186, 832678, 999999, 1082185]   \n1         [5569230, 962229, 951590, 883404, 8090521]   \n\n  matrix: tfidf, factor: 32, regularization: 0.05  ...  \\\n0     [999999, 1082185, 995242, 1100972, 1024306]  ...   \n1      [951590, 999999, 1092026, 5569230, 844165]  ...   \n\n  matrix: bm25, factor: 64, regularization: 0.05  \\\n0    [999999, 1082185, 995242, 1051211, 1100972]   \n1     [999999, 951590, 1092026, 856772, 1133018]   \n\n  matrix: original, factor: 128, regularization: 0.01  \\\n0          [1033142, 979707, 962568, 995242, 865178]    \n1         [914190, 908531, 1133018, 938700, 5568378]    \n\n  matrix: tfidf, factor: 128, regularization: 0.01  \\\n0      [878996, 962568, 1105488, 1033142, 1082185]   \n1     [1106523, 1022003, 1133018, 951590, 1092026]   \n\n  matrix: bm25, factor: 128, regularization: 0.01  \\\n0      [999999, 995242, 1100972, 1082185, 934369]   \n1     [1133018, 999999, 1053690, 951590, 1092026]   \n\n  matrix: original, factor: 128, regularization: 0.03  \\\n0         [1033142, 1082212, 965766, 878996, 995242]    \n1         [1133018, 1106523, 914190, 910032, 951590]    \n\n  matrix: tfidf, factor: 128, regularization: 0.03  \\\n0       [965766, 962568, 995242, 1033142, 1024306]   \n1     [1022003, 1133018, 1106523, 951590, 1042438]   \n\n  matrix: bm25, factor: 128, regularization: 0.03  \\\n0     [999999, 1082185, 995242, 965766, 15926844]   \n1     [1133018, 999999, 1092026, 1053690, 908531]   \n\n  matrix: original, factor: 128, regularization: 0.05  \\\n0        [1105488, 1033142, 979707, 995242, 5569374]    \n1       [914190, 5568378, 1106523, 1133018, 1092026]    \n\n  matrix: tfidf, factor: 128, regularization: 0.05  \\\n0      [1033142, 1043301, 1082185, 999999, 962568]   \n1      [951590, 1133018, 1106523, 883404, 1075470]   \n\n  matrix: bm25, factor: 128, regularization: 0.05  \n0       [999999, 995242, 1082185, 965766, 856942]  \n1     [999999, 951590, 1092026, 1133018, 5569230]  \n\n[2 rows x 29 columns]",
      "text/html": "<div>\n<style scoped>\n    .dataframe tbody tr th:only-of-type {\n        vertical-align: middle;\n    }\n\n    .dataframe tbody tr th {\n        vertical-align: top;\n    }\n\n    .dataframe thead th {\n        text-align: right;\n    }\n</style>\n<table border=\"1\" class=\"dataframe\">\n  <thead>\n    <tr style=\"text-align: right;\">\n      <th></th>\n      <th>user_id</th>\n      <th>actual</th>\n      <th>matrix: original, factor: 32, regularization: 0.01</th>\n      <th>matrix: tfidf, factor: 32, regularization: 0.01</th>\n      <th>matrix: bm25, factor: 32, regularization: 0.01</th>\n      <th>matrix: original, factor: 32, regularization: 0.03</th>\n      <th>matrix: tfidf, factor: 32, regularization: 0.03</th>\n      <th>matrix: bm25, factor: 32, regularization: 0.03</th>\n      <th>matrix: original, factor: 32, regularization: 0.05</th>\n      <th>matrix: tfidf, factor: 32, regularization: 0.05</th>\n      <th>...</th>\n      <th>matrix: bm25, factor: 64, regularization: 0.05</th>\n      <th>matrix: original, factor: 128, regularization: 0.01</th>\n      <th>matrix: tfidf, factor: 128, regularization: 0.01</th>\n      <th>matrix: bm25, factor: 128, regularization: 0.01</th>\n      <th>matrix: original, factor: 128, regularization: 0.03</th>\n      <th>matrix: tfidf, factor: 128, regularization: 0.03</th>\n      <th>matrix: bm25, factor: 128, regularization: 0.03</th>\n      <th>matrix: original, factor: 128, regularization: 0.05</th>\n      <th>matrix: tfidf, factor: 128, regularization: 0.05</th>\n      <th>matrix: bm25, factor: 128, regularization: 0.05</th>\n    </tr>\n  </thead>\n  <tbody>\n    <tr>\n      <th>0</th>\n      <td>1</td>\n      <td>[879517, 934369, 1115576, 1124029, 5572301, 65...</td>\n      <td>[885290, 1005186, 5569374, 999999, 995242]</td>\n      <td>[999999, 1082185, 1100972, 995242, 1005186]</td>\n      <td>[999999, 1082185, 1004390, 995242, 885290]</td>\n      <td>[885290, 1005186, 5569374, 999999, 832678]</td>\n      <td>[1100972, 999999, 1051211, 1082185, 995242]</td>\n      <td>[999999, 1082185, 995242, 885290, 981760]</td>\n      <td>[5569374, 1005186, 832678, 999999, 1082185]</td>\n      <td>[999999, 1082185, 995242, 1100972, 1024306]</td>\n      <td>...</td>\n      <td>[999999, 1082185, 995242, 1051211, 1100972]</td>\n      <td>[1033142, 979707, 962568, 995242, 865178]</td>\n      <td>[878996, 962568, 1105488, 1033142, 1082185]</td>\n      <td>[999999, 995242, 1100972, 1082185, 934369]</td>\n      <td>[1033142, 1082212, 965766, 878996, 995242]</td>\n      <td>[965766, 962568, 995242, 1033142, 1024306]</td>\n      <td>[999999, 1082185, 995242, 965766, 15926844]</td>\n      <td>[1105488, 1033142, 979707, 995242, 5569374]</td>\n      <td>[1033142, 1043301, 1082185, 999999, 962568]</td>\n      <td>[999999, 995242, 1082185, 965766, 856942]</td>\n    </tr>\n    <tr>\n      <th>1</th>\n      <td>3</td>\n      <td>[823704, 834117, 840244, 913785, 917816, 93870...</td>\n      <td>[951590, 883404, 999999, 908531, 1092026]</td>\n      <td>[951590, 999999, 962229, 1029743, 910032]</td>\n      <td>[951590, 999999, 840601, 883404, 8090521]</td>\n      <td>[951590, 962229, 883404, 1106523, 908531]</td>\n      <td>[999999, 951590, 962229, 1029743, 1082185]</td>\n      <td>[951590, 999999, 962229, 883404, 1029743]</td>\n      <td>[5569230, 962229, 951590, 883404, 8090521]</td>\n      <td>[951590, 999999, 1092026, 5569230, 844165]</td>\n      <td>...</td>\n      <td>[999999, 951590, 1092026, 856772, 1133018]</td>\n      <td>[914190, 908531, 1133018, 938700, 5568378]</td>\n      <td>[1106523, 1022003, 1133018, 951590, 1092026]</td>\n      <td>[1133018, 999999, 1053690, 951590, 1092026]</td>\n      <td>[1133018, 1106523, 914190, 910032, 951590]</td>\n      <td>[1022003, 1133018, 1106523, 951590, 1042438]</td>\n      <td>[1133018, 999999, 1092026, 1053690, 908531]</td>\n      <td>[914190, 5568378, 1106523, 1133018, 1092026]</td>\n      <td>[951590, 1133018, 1106523, 883404, 1075470]</td>\n      <td>[999999, 951590, 1092026, 1133018, 5569230]</td>\n    </tr>\n  </tbody>\n</table>\n<p>2 rows × 29 columns</p>\n</div>"
     },
     "execution_count": 15,
     "metadata": {},
     "output_type": "execute_result"
    }
   ],
   "source": [
    "result.head(2)"
   ],
   "metadata": {
    "collapsed": false,
    "pycharm": {
     "name": "#%%\n"
    }
   }
  },
  {
   "cell_type": "markdown",
   "source": [
    "### Итак, лучшую метрику 0.1936 получили при гипермараметрах: matrix: bm25, factor: 128, regularization: 0.01"
   ],
   "metadata": {
    "collapsed": false
   }
  },
  {
   "cell_type": "markdown",
   "source": [],
   "metadata": {
    "collapsed": false
   }
  },
  {
   "cell_type": "markdown",
   "source": [
    "# Попытаемся ответить на вопросы/выдвинуть гипотезы"
   ],
   "metadata": {
    "collapsed": false
   }
  },
  {
   "cell_type": "markdown",
   "source": [
    "Начиная с этого вебинара, мы будем строить *базовое решение* для системы рекомендаций топ-N товаров. В финальном проекте вам нужно будет его существенно улучшить.  \n",
    "  \n",
    "**Ситуация**: Вы работает data scientist в крупном продуктовом российском ритейлере. Ваш конкурент сделал рекомендательную систему, и его продажи выросли. Ваш менеджмент тоже хочет увеличить продажи   \n",
    "**Задача со слов менеджера**: Сделайте рекомендательную систему топ-10 товаров для рассылки по e-mail"
   ],
   "metadata": {
    "collapsed": false
   }
  },
  {
   "cell_type": "markdown",
   "source": [
    "**Ожидание:**\n",
    "- Отправляем e-mail с топ-10 товарами, отсортированными по вероятности\n",
    "\n",
    "**Реальность:**\n",
    "- Чего хочет менеджер от рекомендательной системы? (рост показателя X на Y% за Z недель)\n",
    "- По-хорошему надо бы предварительно посчитать потенциальный эффект от рекоммендательной системы (Оценки эффектов у менеджера и у вас могут сильно не совпадать: как правило, вы знаете про данные больше)\n",
    "- А у нас вообще есть e-mail-ы пользователей? Для скольки %? Не устарели ли они?\n",
    "- Будем ли использовать СМС и push-уведомления в приложении? Может, будем печатать рекомендации на чеке после оплаты на кассе?\n",
    "- Как будет выглядеть e-mail? (решаем задачу топ-10 рекомендаций или ранжирования? И топ-10 ли?)\n",
    "- Какие товары должны быть в e-mail? Есть ли какие-то ограничения (только акции и т п)?\n",
    "- Сколько денег мы готовы потратить на привлечение 1 юзера? CAC - Customer Aquisition Cost. Обычно CAC = расходы на коммуникацию + расходы на скидки\n",
    "- Cколько мы хотим зарабатывать с одного привлеченного юзера?\n",
    "---\n",
    "- А точно нужно сортировать по вероятности?\n",
    "- Какую метрику использовать?\n",
    "- Сколько раз в неделю отпрпавляем рассылку?\n",
    "- В какое время отправляем рассылку?\n",
    "- Будем отправлять одному юзеру много раз наши рекоммендации. Как добиться того, чтобы они хоть немного отличались?\n",
    "- Нужно ли, чтобы в одной рассылке были *разные* товары? Как определить, что товары *разные*? Как добиться того, чтобы они были разными?\n",
    "- И многое другое:)"
   ],
   "metadata": {
    "collapsed": false
   }
  },
  {
   "cell_type": "markdown",
   "source": [
    "**В итоге договорились, что:**\n",
    "- Хотим повысить выручку минимум на 6% за 4 месяца. Будем повышать за счет роста Retention минимум на  3% и среднего чека минимум на 3%\n",
    "- Топ-5 товаров, а не топ-10 (В e-mail 10 выглядят не красиво, в push и на чек больше 5 не влезает)\n",
    "- Рассылаем в e-mail (5% клиентов) и push-уведомлении (20% клиентов), печатаем на чеке (все оффлайн клиенты)\n",
    "- **3 товара с акцией** (Как это учесть? А если на товар была акция 10%, а потом 50%, что будет стоять в user-item матрице?)\n",
    "- **1 новый товар** (юзер никогда не покупал. Просто фильтруем аутпут ALS? А если у таких товаров очень маленькая вероятность покупки? Может, использовать другую логику/модель?) \n",
    "- **1 товар для роста среднего чека** (товары минимум дороже чем обычно покупает юзер. Как это измерить? На сколько дороже?)"
   ],
   "metadata": {
    "collapsed": false
   }
  },
  {
   "cell_type": "markdown",
   "source": [
    "Вопросов стало еще больше. Поэтому сначала делаем **MVP** (Minimum viable product) на e-mail. Показываем его менеджеру, измеряем метрики на юзерах. По фидбеку и метрикам делаем улучшения MVP и раскатываем его на push-уведомления и чеки\n",
    "\n",
    "*Data Science проект* - итеративный процесс!"
   ],
   "metadata": {
    "collapsed": false
   }
  },
  {
   "cell_type": "markdown",
   "source": [
    "# Links\n",
    "\n",
    "BM25\n",
    "\n",
    "https://en.wikipedia.org/wiki/Okapi_BM25#:~:text=BM25%20is%20a%20bag%2Dof,slightly%20different%20components%20and%20parameters.\n",
    "\n",
    "\n",
    "Matrix factorization (ALS, SVD)\n",
    "https://datasciencemadesimpler.wordpress.com/tag/alternating-least-squares/"
   ],
   "metadata": {
    "collapsed": false,
    "pycharm": {
     "name": "#%% md\n"
    }
   }
  }
 ],
 "metadata": {
  "colab": {
   "name": "webinar_3.ipynb",
   "provenance": [],
   "toc_visible": true
  },
  "kernelspec": {
   "display_name": "Python 3",
   "language": "python",
   "name": "python3"
  },
  "language_info": {
   "codemirror_mode": {
    "name": "ipython",
    "version": 3
   },
   "file_extension": ".py",
   "mimetype": "text/x-python",
   "name": "python",
   "nbconvert_exporter": "python",
   "pygments_lexer": "ipython3",
   "version": "3.7.4"
  }
 },
 "nbformat": 4,
 "nbformat_minor": 1
}