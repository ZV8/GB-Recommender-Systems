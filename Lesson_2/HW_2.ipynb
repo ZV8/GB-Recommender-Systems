{
 "cells": [
  {
   "cell_type": "code",
   "execution_count": 1,
   "metadata": {
    "colab": {},
    "colab_type": "code",
    "id": "rgIzW-DSC8Yi"
   },
   "outputs": [
    {
     "name": "stderr",
     "output_type": "stream",
     "text": [
      "\n",
      "Bad key savefig.frameon in file /Users/vladimir/opt/anaconda3/envs/DataScience/lib/python3.7/site-packages/matplotlib/mpl-data/stylelib/_classic_test.mplstyle, line 421 ('savefig.frameon : True')\n",
      "You probably need to get an updated matplotlibrc file from\n",
      "https://github.com/matplotlib/matplotlib/blob/v3.3.2/matplotlibrc.template\n",
      "or from the matplotlib source distribution\n",
      "\n",
      "Bad key verbose.level in file /Users/vladimir/opt/anaconda3/envs/DataScience/lib/python3.7/site-packages/matplotlib/mpl-data/stylelib/_classic_test.mplstyle, line 472 ('verbose.level  : silent      # one of silent, helpful, debug, debug-annoying')\n",
      "You probably need to get an updated matplotlibrc file from\n",
      "https://github.com/matplotlib/matplotlib/blob/v3.3.2/matplotlibrc.template\n",
      "or from the matplotlib source distribution\n",
      "\n",
      "Bad key verbose.fileo in file /Users/vladimir/opt/anaconda3/envs/DataScience/lib/python3.7/site-packages/matplotlib/mpl-data/stylelib/_classic_test.mplstyle, line 473 ('verbose.fileo  : sys.stdout  # a log filename, sys.stdout or sys.stderr')\n",
      "You probably need to get an updated matplotlibrc file from\n",
      "https://github.com/matplotlib/matplotlib/blob/v3.3.2/matplotlibrc.template\n",
      "or from the matplotlib source distribution\n",
      "In /Users/vladimir/opt/anaconda3/envs/DataScience/lib/python3.7/site-packages/matplotlib/mpl-data/stylelib/_classic_test.mplstyle: \n",
      "The text.latex.preview rcparam was deprecated in Matplotlib 3.3 and will be removed two minor releases later.\n",
      "In /Users/vladimir/opt/anaconda3/envs/DataScience/lib/python3.7/site-packages/matplotlib/mpl-data/stylelib/_classic_test.mplstyle: \n",
      "The mathtext.fallback_to_cm rcparam was deprecated in Matplotlib 3.3 and will be removed two minor releases later.\n",
      "In /Users/vladimir/opt/anaconda3/envs/DataScience/lib/python3.7/site-packages/matplotlib/mpl-data/stylelib/_classic_test.mplstyle: Support for setting the 'mathtext.fallback_to_cm' rcParam is deprecated since 3.3 and will be removed two minor releases later; use 'mathtext.fallback : 'cm' instead.\n",
      "In /Users/vladimir/opt/anaconda3/envs/DataScience/lib/python3.7/site-packages/matplotlib/mpl-data/stylelib/_classic_test.mplstyle: \n",
      "The validate_bool_maybe_none function was deprecated in Matplotlib 3.3 and will be removed two minor releases later.\n",
      "In /Users/vladimir/opt/anaconda3/envs/DataScience/lib/python3.7/site-packages/matplotlib/mpl-data/stylelib/_classic_test.mplstyle: \n",
      "The savefig.jpeg_quality rcparam was deprecated in Matplotlib 3.3 and will be removed two minor releases later.\n",
      "In /Users/vladimir/opt/anaconda3/envs/DataScience/lib/python3.7/site-packages/matplotlib/mpl-data/stylelib/_classic_test.mplstyle: \n",
      "The keymap.all_axes rcparam was deprecated in Matplotlib 3.3 and will be removed two minor releases later.\n",
      "In /Users/vladimir/opt/anaconda3/envs/DataScience/lib/python3.7/site-packages/matplotlib/mpl-data/stylelib/_classic_test.mplstyle: \n",
      "The animation.avconv_path rcparam was deprecated in Matplotlib 3.3 and will be removed two minor releases later.\n",
      "In /Users/vladimir/opt/anaconda3/envs/DataScience/lib/python3.7/site-packages/matplotlib/mpl-data/stylelib/_classic_test.mplstyle: \n",
      "The animation.avconv_args rcparam was deprecated in Matplotlib 3.3 and will be removed two minor releases later.\n"
     ]
    }
   ],
   "source": [
    "import pandas as pd\n",
    "import numpy as np\n",
    "import matplotlib.pyplot as plt\n",
    "%matplotlib inline\n",
    "\n",
    "# Для работы с матрицами\n",
    "from scipy.sparse import csr_matrix, coo_matrix\n",
    "\n",
    "# Детерминированные алгоритмы\n",
    "from implicit.nearest_neighbours import ItemItemRecommender, CosineRecommender, TFIDFRecommender, BM25Recommender\n",
    "\n",
    "# Метрики\n",
    "from implicit.evaluation import train_test_split\n",
    "from implicit.evaluation import precision_at_k, mean_average_precision_at_k, AUC_at_k, ndcg_at_k"
   ]
  },
  {
   "cell_type": "code",
   "execution_count": 2,
   "metadata": {
    "colab": {},
    "colab_type": "code",
    "id": "9qFkcgyrC8Yt",
    "outputId": "24a33bf1-942a-4b18-c54a-a7500c8f8712"
   },
   "outputs": [
    {
     "data": {
      "text/plain": "   user_id    basket_id  day  item_id  quantity  sales_value  store_id  \\\n0     2375  26984851472    1  1004906         1         1.39       364   \n1     2375  26984851472    1  1033142         1         0.82       364   \n\n   retail_disc  trans_time  week_no  coupon_disc  coupon_match_disc  \n0         -0.6        1631        1          0.0                0.0  \n1          0.0        1631        1          0.0                0.0  ",
      "text/html": "<div>\n<style scoped>\n    .dataframe tbody tr th:only-of-type {\n        vertical-align: middle;\n    }\n\n    .dataframe tbody tr th {\n        vertical-align: top;\n    }\n\n    .dataframe thead th {\n        text-align: right;\n    }\n</style>\n<table border=\"1\" class=\"dataframe\">\n  <thead>\n    <tr style=\"text-align: right;\">\n      <th></th>\n      <th>user_id</th>\n      <th>basket_id</th>\n      <th>day</th>\n      <th>item_id</th>\n      <th>quantity</th>\n      <th>sales_value</th>\n      <th>store_id</th>\n      <th>retail_disc</th>\n      <th>trans_time</th>\n      <th>week_no</th>\n      <th>coupon_disc</th>\n      <th>coupon_match_disc</th>\n    </tr>\n  </thead>\n  <tbody>\n    <tr>\n      <th>0</th>\n      <td>2375</td>\n      <td>26984851472</td>\n      <td>1</td>\n      <td>1004906</td>\n      <td>1</td>\n      <td>1.39</td>\n      <td>364</td>\n      <td>-0.6</td>\n      <td>1631</td>\n      <td>1</td>\n      <td>0.0</td>\n      <td>0.0</td>\n    </tr>\n    <tr>\n      <th>1</th>\n      <td>2375</td>\n      <td>26984851472</td>\n      <td>1</td>\n      <td>1033142</td>\n      <td>1</td>\n      <td>0.82</td>\n      <td>364</td>\n      <td>0.0</td>\n      <td>1631</td>\n      <td>1</td>\n      <td>0.0</td>\n      <td>0.0</td>\n    </tr>\n  </tbody>\n</table>\n</div>"
     },
     "execution_count": 2,
     "metadata": {},
     "output_type": "execute_result"
    }
   ],
   "source": [
    "data = pd.read_csv('data/retail_train.csv')\n",
    "data.head(2)"
   ]
  },
  {
   "cell_type": "code",
   "execution_count": 3,
   "metadata": {
    "colab": {},
    "colab_type": "code",
    "id": "epcBZlgJC8Y0"
   },
   "outputs": [],
   "source": [
    "test_size_weeks = 3\n",
    "\n",
    "data_train = data[data['week_no'] < data['week_no'].max() - test_size_weeks]\n",
    "data_test = data[data['week_no'] >= data['week_no'].max() - test_size_weeks]"
   ]
  },
  {
   "cell_type": "markdown",
   "metadata": {
    "colab_type": "text",
    "id": "zlUUzLFeC8Y4"
   },
   "source": [
    "### Задание 1. Weighted Random Recommendation\n",
    "\n",
    "Напишите код для случайных рекоммендаций, в которых вероятность рекомендовать товар прямо пропорциональна логарифму продаж\n",
    "- Можно сэмплировать товары случайно, но пропорционально какому-либо весу\n",
    "- Например, прямопропорционально популярности. Вес = log(sales_sum товара)"
   ]
  },
  {
   "cell_type": "code",
   "execution_count": 4,
   "outputs": [
    {
     "data": {
      "text/plain": "   user_id                                             actual\n0        1  [821867, 834484, 856942, 865456, 889248, 90795...\n1        3  [835476, 851057, 872021, 878302, 879948, 90963...",
      "text/html": "<div>\n<style scoped>\n    .dataframe tbody tr th:only-of-type {\n        vertical-align: middle;\n    }\n\n    .dataframe tbody tr th {\n        vertical-align: top;\n    }\n\n    .dataframe thead th {\n        text-align: right;\n    }\n</style>\n<table border=\"1\" class=\"dataframe\">\n  <thead>\n    <tr style=\"text-align: right;\">\n      <th></th>\n      <th>user_id</th>\n      <th>actual</th>\n    </tr>\n  </thead>\n  <tbody>\n    <tr>\n      <th>0</th>\n      <td>1</td>\n      <td>[821867, 834484, 856942, 865456, 889248, 90795...</td>\n    </tr>\n    <tr>\n      <th>1</th>\n      <td>3</td>\n      <td>[835476, 851057, 872021, 878302, 879948, 90963...</td>\n    </tr>\n  </tbody>\n</table>\n</div>"
     },
     "execution_count": 4,
     "metadata": {},
     "output_type": "execute_result"
    }
   ],
   "source": [
    "result = data_test.groupby('user_id')['item_id'].unique().reset_index()\n",
    "result.columns=['user_id', 'actual']\n",
    "result.head(2)"
   ],
   "metadata": {
    "collapsed": false,
    "pycharm": {
     "name": "#%%\n"
    }
   }
  },
  {
   "cell_type": "code",
   "execution_count": 5,
   "outputs": [],
   "source": [
    "def random_recommendation(items, n=5):\n",
    "    \"\"\"Случайные рекоммендации\"\"\"\n",
    "\n",
    "    items = np.array(items)\n",
    "    recs = np.random.choice(items, size=n, replace=False)\n",
    "\n",
    "    return recs.tolist()"
   ],
   "metadata": {
    "collapsed": false,
    "pycharm": {
     "name": "#%%\n"
    }
   }
  },
  {
   "cell_type": "code",
   "execution_count": 6,
   "outputs": [],
   "source": [
    "def weighted_random_recommendation(items_weights, n=5):\n",
    "    \"\"\"Случайные рекоммендации\n",
    "\n",
    "    Input\n",
    "    -----\n",
    "    items_weights: pd.DataFrame\n",
    "        Датафрейм со столбцами item_id, weight. Сумма weight по всем товарам = 1\n",
    "    \"\"\"\n",
    "\n",
    "    items = np.array(items_weights.item_id)\n",
    "    weight = np.array(items_weights.weight)\n",
    "    recs = np.random.choice(items, size=n, replace=False, p=weight)\n",
    "\n",
    "    return recs.tolist()"
   ],
   "metadata": {
    "collapsed": false,
    "pycharm": {
     "name": "#%%\n"
    }
   }
  },
  {
   "cell_type": "code",
   "execution_count": 7,
   "outputs": [
    {
     "name": "stdout",
     "output_type": "stream",
     "text": [
      "Сумма weight = 1.0\n"
     ]
    },
    {
     "data": {
      "text/plain": "       item_id  sales_count  sales_count_log    weight\n35054  1082185        27362        10.216910  0.000077\n56233  6534178        18364         9.818148  0.000074",
      "text/html": "<div>\n<style scoped>\n    .dataframe tbody tr th:only-of-type {\n        vertical-align: middle;\n    }\n\n    .dataframe tbody tr th {\n        vertical-align: top;\n    }\n\n    .dataframe thead th {\n        text-align: right;\n    }\n</style>\n<table border=\"1\" class=\"dataframe\">\n  <thead>\n    <tr style=\"text-align: right;\">\n      <th></th>\n      <th>item_id</th>\n      <th>sales_count</th>\n      <th>sales_count_log</th>\n      <th>weight</th>\n    </tr>\n  </thead>\n  <tbody>\n    <tr>\n      <th>35054</th>\n      <td>1082185</td>\n      <td>27362</td>\n      <td>10.216910</td>\n      <td>0.000077</td>\n    </tr>\n    <tr>\n      <th>56233</th>\n      <td>6534178</td>\n      <td>18364</td>\n      <td>9.818148</td>\n      <td>0.000074</td>\n    </tr>\n  </tbody>\n</table>\n</div>"
     },
     "execution_count": 7,
     "metadata": {},
     "output_type": "execute_result"
    }
   ],
   "source": [
    "popularity = data.groupby('item_id')['sales_value'].count().reset_index().rename(columns={'sales_value': 'sales_count'})\n",
    "popularity.sort_values('sales_count', ascending=False, inplace=True)\n",
    "popularity['sales_count_log'] = np.log(popularity['sales_count'])\n",
    "popularity['weight'] = popularity['sales_count_log'] / popularity['sales_count_log'].sum()\n",
    "print(f'Сумма weight = {popularity.weight.sum()}')\n",
    "popularity.head(2)"
   ],
   "metadata": {
    "collapsed": false,
    "pycharm": {
     "name": "#%%\n"
    }
   }
  },
  {
   "cell_type": "code",
   "execution_count": 8,
   "metadata": {
    "colab": {},
    "colab_type": "code",
    "id": "nK_AS3tmC8Y7"
   },
   "outputs": [
    {
     "name": "stdout",
     "output_type": "stream",
     "text": [
      "CPU times: user 5.56 s, sys: 13.5 ms, total: 5.57 s\n",
      "Wall time: 5.61 s\n"
     ]
    },
    {
     "data": {
      "text/plain": "   user_id                                             actual  \\\n0        1  [821867, 834484, 856942, 865456, 889248, 90795...   \n1        3  [835476, 851057, 872021, 878302, 879948, 90963...   \n\n                            random_recommendation  \\\n0  [9838023, 872063, 15926886, 13911483, 1022086]   \n1  [1065331, 15597054, 10312182, 923149, 1007178]   \n\n                   weighted_random_recommendation  \n0   [10344585, 1415996, 1087755, 883670, 1033249]  \n1  [8205577, 1115800, 1091090, 1085141, 15596516]  ",
      "text/html": "<div>\n<style scoped>\n    .dataframe tbody tr th:only-of-type {\n        vertical-align: middle;\n    }\n\n    .dataframe tbody tr th {\n        vertical-align: top;\n    }\n\n    .dataframe thead th {\n        text-align: right;\n    }\n</style>\n<table border=\"1\" class=\"dataframe\">\n  <thead>\n    <tr style=\"text-align: right;\">\n      <th></th>\n      <th>user_id</th>\n      <th>actual</th>\n      <th>random_recommendation</th>\n      <th>weighted_random_recommendation</th>\n    </tr>\n  </thead>\n  <tbody>\n    <tr>\n      <th>0</th>\n      <td>1</td>\n      <td>[821867, 834484, 856942, 865456, 889248, 90795...</td>\n      <td>[9838023, 872063, 15926886, 13911483, 1022086]</td>\n      <td>[10344585, 1415996, 1087755, 883670, 1033249]</td>\n    </tr>\n    <tr>\n      <th>1</th>\n      <td>3</td>\n      <td>[835476, 851057, 872021, 878302, 879948, 90963...</td>\n      <td>[1065331, 15597054, 10312182, 923149, 1007178]</td>\n      <td>[8205577, 1115800, 1091090, 1085141, 15596516]</td>\n    </tr>\n  </tbody>\n</table>\n</div>"
     },
     "execution_count": 8,
     "metadata": {},
     "output_type": "execute_result"
    }
   ],
   "source": [
    "%%time\n",
    "\n",
    "items = data_train.item_id.unique()\n",
    "\n",
    "result['random_recommendation'] = result['user_id'].apply(lambda x: random_recommendation(items, n=5))\n",
    "result['weighted_random_recommendation'] = result['user_id'].apply(lambda x: weighted_random_recommendation(popularity[['item_id', 'weight']], n=5))\n",
    "\n",
    "result.head(2)"
   ]
  },
  {
   "cell_type": "code",
   "execution_count": 9,
   "outputs": [
    {
     "name": "stdout",
     "output_type": "stream",
     "text": [
      "1.0:actual\n",
      "0.0003:random_recommendation\n",
      "0.0016:weighted_random_recommendation\n"
     ]
    }
   ],
   "source": [
    "from metrics import precision_at_k, recall_at_k\n",
    "\n",
    "for name_col in result.columns[1:]:\n",
    "    print(f\"{round(result.apply(lambda row: precision_at_k(row[name_col], row['actual']), axis=1).mean(),4)}:{name_col}\")"
   ],
   "metadata": {
    "collapsed": false,
    "pycharm": {
     "name": "#%%\n"
    }
   }
  },
  {
   "cell_type": "markdown",
   "source": [
    "#### Комментарий\n",
    "Видим, что по сравнению с обычной случайной рекомендацией, у взвешенной пропорционально количеству продаж, метрика качества в несколько раз выше."
   ],
   "metadata": {
    "collapsed": false
   }
  },
  {
   "cell_type": "markdown",
   "metadata": {
    "colab_type": "text",
    "id": "igDU0j1cC8ZH"
   },
   "source": [
    "## Задание 2. Улучшение бейзлайнов и ItemItem\n",
    "\n",
    "- Попробуйте улучшить бейзлайны, считая случаный на топ-5000 товаров\n",
    "- Попробуйте улучшить разные варианты ItemItemRecommender, выбирая число соседей $K$."
   ]
  },
  {
   "cell_type": "markdown",
   "source": [
    "#### 2.1 Попробуем улучшить бейзлайны, считая случаный на топ-5000 товаров"
   ],
   "metadata": {
    "collapsed": false
   }
  },
  {
   "cell_type": "code",
   "execution_count": 10,
   "metadata": {
    "colab": {},
    "colab_type": "code",
    "id": "zYBR3cMPC8ZH"
   },
   "outputs": [
    {
     "name": "stdout",
     "output_type": "stream",
     "text": [
      "Сумма weight = 0.9999999999999999\n",
      "CPU times: user 1.58 s, sys: 6.78 ms, total: 1.58 s\n",
      "Wall time: 1.59 s\n"
     ]
    },
    {
     "data": {
      "text/plain": "   user_id                                             actual  \\\n0        1  [821867, 834484, 856942, 865456, 889248, 90795...   \n1        3  [835476, 851057, 872021, 878302, 879948, 90963...   \n\n                            random_recommendation  \\\n0  [9838023, 872063, 15926886, 13911483, 1022086]   \n1  [1065331, 15597054, 10312182, 923149, 1007178]   \n\n                   weighted_random_recommendation  \\\n0   [10344585, 1415996, 1087755, 883670, 1033249]   \n1  [8205577, 1115800, 1091090, 1085141, 15596516]   \n\n                     random_recommendation_5000  \\\n0     [891028, 932298, 1054945, 871433, 995916]   \n1  [13007355, 8090532, 961747, 996425, 1127470]   \n\n           weighted_random_recommendation_5000  \n0  [1081189, 1132280, 1038692, 992529, 835619]  \n1     [959316, 950756, 926763, 910151, 911622]  ",
      "text/html": "<div>\n<style scoped>\n    .dataframe tbody tr th:only-of-type {\n        vertical-align: middle;\n    }\n\n    .dataframe tbody tr th {\n        vertical-align: top;\n    }\n\n    .dataframe thead th {\n        text-align: right;\n    }\n</style>\n<table border=\"1\" class=\"dataframe\">\n  <thead>\n    <tr style=\"text-align: right;\">\n      <th></th>\n      <th>user_id</th>\n      <th>actual</th>\n      <th>random_recommendation</th>\n      <th>weighted_random_recommendation</th>\n      <th>random_recommendation_5000</th>\n      <th>weighted_random_recommendation_5000</th>\n    </tr>\n  </thead>\n  <tbody>\n    <tr>\n      <th>0</th>\n      <td>1</td>\n      <td>[821867, 834484, 856942, 865456, 889248, 90795...</td>\n      <td>[9838023, 872063, 15926886, 13911483, 1022086]</td>\n      <td>[10344585, 1415996, 1087755, 883670, 1033249]</td>\n      <td>[891028, 932298, 1054945, 871433, 995916]</td>\n      <td>[1081189, 1132280, 1038692, 992529, 835619]</td>\n    </tr>\n    <tr>\n      <th>1</th>\n      <td>3</td>\n      <td>[835476, 851057, 872021, 878302, 879948, 90963...</td>\n      <td>[1065331, 15597054, 10312182, 923149, 1007178]</td>\n      <td>[8205577, 1115800, 1091090, 1085141, 15596516]</td>\n      <td>[13007355, 8090532, 961747, 996425, 1127470]</td>\n      <td>[959316, 950756, 926763, 910151, 911622]</td>\n    </tr>\n  </tbody>\n</table>\n</div>"
     },
     "execution_count": 10,
     "metadata": {},
     "output_type": "execute_result"
    }
   ],
   "source": [
    "%%time\n",
    "\n",
    "top = 5000\n",
    "\n",
    "items = popularity.item_id.unique()[:top]\n",
    "\n",
    "popularity = popularity[:top]\n",
    "popularity['weight'] = popularity['sales_count_log'] / popularity['sales_count_log'].sum()\n",
    "print(f'Сумма weight = {popularity.weight.sum()}')\n",
    "\n",
    "result['random_recommendation_5000'] = result['user_id'].apply(lambda x: random_recommendation(items, n=5))\n",
    "result['weighted_random_recommendation_5000'] = result['user_id'].apply(lambda x: weighted_random_recommendation(popularity[['item_id', 'weight']], n=5))\n",
    "\n",
    "result.head(2)"
   ]
  },
  {
   "cell_type": "code",
   "execution_count": 11,
   "outputs": [
    {
     "name": "stdout",
     "output_type": "stream",
     "text": [
      "1.0:actual\n",
      "0.0003:random_recommendation\n",
      "0.0016:weighted_random_recommendation\n",
      "0.0059:random_recommendation_5000\n",
      "0.0057:weighted_random_recommendation_5000\n"
     ]
    }
   ],
   "source": [
    "from metrics import precision_at_k, recall_at_k\n",
    "\n",
    "for name_col in result.columns[1:]:\n",
    "    print(f\"{round(result.apply(lambda row: precision_at_k(row[name_col], row['actual']), axis=1).mean(),4)}:{name_col}\")"
   ],
   "metadata": {
    "collapsed": false,
    "pycharm": {
     "name": "#%%\n"
    }
   }
  },
  {
   "cell_type": "markdown",
   "source": [
    "#### Комментарий\n",
    "\n",
    "Видим, что те же случайные рекомендации, но рассчитанные на top-5000 товаров существенно улучшают бейзлайн."
   ],
   "metadata": {
    "collapsed": false
   }
  },
  {
   "cell_type": "markdown",
   "source": [
    "#### 2.2 Попробуем улучшить разные варианты ItemItemRecommender, выбирая число соседей $K$."
   ],
   "metadata": {
    "collapsed": false
   }
  },
  {
   "cell_type": "code",
   "execution_count": 12,
   "outputs": [],
   "source": [
    "test_size_weeks = 3\n",
    "\n",
    "data_train = data[data['week_no'] < data['week_no'].max() - test_size_weeks]\n",
    "data_test = data[data['week_no'] >= data['week_no'].max() - test_size_weeks]"
   ],
   "metadata": {
    "collapsed": false,
    "pycharm": {
     "name": "#%%\n"
    }
   }
  },
  {
   "cell_type": "code",
   "execution_count": 13,
   "outputs": [
    {
     "data": {
      "text/plain": "   item_id  n_sold\n0    25671       6\n1    26081       1\n2    26093       1\n3    26190       1\n4    26355       2",
      "text/html": "<div>\n<style scoped>\n    .dataframe tbody tr th:only-of-type {\n        vertical-align: middle;\n    }\n\n    .dataframe tbody tr th {\n        vertical-align: top;\n    }\n\n    .dataframe thead th {\n        text-align: right;\n    }\n</style>\n<table border=\"1\" class=\"dataframe\">\n  <thead>\n    <tr style=\"text-align: right;\">\n      <th></th>\n      <th>item_id</th>\n      <th>n_sold</th>\n    </tr>\n  </thead>\n  <tbody>\n    <tr>\n      <th>0</th>\n      <td>25671</td>\n      <td>6</td>\n    </tr>\n    <tr>\n      <th>1</th>\n      <td>26081</td>\n      <td>1</td>\n    </tr>\n    <tr>\n      <th>2</th>\n      <td>26093</td>\n      <td>1</td>\n    </tr>\n    <tr>\n      <th>3</th>\n      <td>26190</td>\n      <td>1</td>\n    </tr>\n    <tr>\n      <th>4</th>\n      <td>26355</td>\n      <td>2</td>\n    </tr>\n  </tbody>\n</table>\n</div>"
     },
     "execution_count": 13,
     "metadata": {},
     "output_type": "execute_result"
    }
   ],
   "source": [
    "popularity = data_train.groupby('item_id')['quantity'].sum().reset_index()\n",
    "popularity.rename(columns={'quantity': 'n_sold'}, inplace=True)\n",
    "\n",
    "popularity.head()"
   ],
   "metadata": {
    "collapsed": false,
    "pycharm": {
     "name": "#%%\n"
    }
   }
  },
  {
   "cell_type": "code",
   "execution_count": 14,
   "outputs": [
    {
     "name": "stderr",
     "output_type": "stream",
     "text": [
      "/Users/vladimir/opt/anaconda3/envs/DataScience/lib/python3.7/site-packages/pandas/core/indexing.py:1765: SettingWithCopyWarning: \n",
      "A value is trying to be set on a copy of a slice from a DataFrame.\n",
      "Try using .loc[row_indexer,col_indexer] = value instead\n",
      "\n",
      "See the caveats in the documentation: https://pandas.pydata.org/pandas-docs/stable/user_guide/indexing.html#returning-a-view-versus-a-copy\n",
      "  isetter(loc, value)\n"
     ]
    }
   ],
   "source": [
    "top_5000 = popularity.sort_values('n_sold', ascending=False).head(5000).item_id.tolist()\n",
    "\n",
    "# Заведем фиктивный item_id (если юзер покупал товары из топ-5000, то он \"купил\" такой товар)\n",
    "data_train.loc[ ~ data_train['item_id'].isin(top_5000), 'item_id'] = 6666"
   ],
   "metadata": {
    "collapsed": false,
    "pycharm": {
     "name": "#%%\n"
    }
   }
  },
  {
   "cell_type": "code",
   "execution_count": 15,
   "outputs": [
    {
     "name": "stdout",
     "output_type": "stream",
     "text": [
      "Размер матрицы: (2499, 5001)\n",
      "Разреженность матрицы: 5.33770796861036\n"
     ]
    }
   ],
   "source": [
    "user_item_matrix = pd.pivot_table(data_train,\n",
    "                                  index='user_id', columns='item_id',\n",
    "                                  values='quantity',\n",
    "                                  aggfunc='count',\n",
    "                                  fill_value=0\n",
    "                                  )\n",
    "\n",
    "user_item_matrix[user_item_matrix > 0] = 1 # так как в итоге хотим предсказать\n",
    "\n",
    "user_item_matrix = user_item_matrix.astype(float) # необходимый тип матрицы для implicit\n",
    "\n",
    "# переведем в формат sparse matrix\n",
    "sparse_user_item = csr_matrix(user_item_matrix).tocsr()\n",
    "\n",
    "print(f'Размер матрицы: {user_item_matrix.shape}')\n",
    "print(f'Разреженность матрицы: {user_item_matrix.sum().sum() / (user_item_matrix.shape[0] * user_item_matrix.shape[1]) * 100}')"
   ],
   "metadata": {
    "collapsed": false,
    "pycharm": {
     "name": "#%%\n"
    }
   }
  },
  {
   "cell_type": "code",
   "execution_count": 16,
   "outputs": [],
   "source": [
    "# создаем словари мапинга между id бизнеса к строчному id матрицы\n",
    "\n",
    "userids = user_item_matrix.index.values\n",
    "itemids = user_item_matrix.columns.values\n",
    "\n",
    "matrix_userids = np.arange(len(userids))\n",
    "matrix_itemids = np.arange(len(itemids))\n",
    "\n",
    "id_to_itemid = dict(zip(matrix_itemids, itemids))\n",
    "id_to_userid = dict(zip(matrix_userids, userids))\n",
    "\n",
    "itemid_to_id = dict(zip(itemids, matrix_itemids))\n",
    "userid_to_id = dict(zip(userids, matrix_userids))"
   ],
   "metadata": {
    "collapsed": false,
    "pycharm": {
     "name": "#%%\n"
    }
   }
  },
  {
   "cell_type": "code",
   "execution_count": 17,
   "outputs": [
    {
     "data": {
      "text/plain": "  0%|          | 0/5001 [00:00<?, ?it/s]",
      "application/vnd.jupyter.widget-view+json": {
       "version_major": 2,
       "version_minor": 0,
       "model_id": "ca3062e693384479bdb1204c4cb88745"
      }
     },
     "metadata": {},
     "output_type": "display_data"
    },
    {
     "name": "stdout",
     "output_type": "stream",
     "text": [
      "CPU times: user 1.08 s, sys: 11.9 ms, total: 1.09 s\n",
      "Wall time: 1.13 s\n"
     ]
    }
   ],
   "source": [
    "%%time\n",
    "\n",
    "model = ItemItemRecommender(K=1, num_threads=4) # K - кол-во билжайших соседей\n",
    "\n",
    "\n",
    "model.fit(csr_matrix(user_item_matrix).T.tocsr(),  # На вход item-user matrix\n",
    "          show_progress=True)"
   ],
   "metadata": {
    "collapsed": false,
    "pycharm": {
     "name": "#%%\n"
    }
   }
  },
  {
   "cell_type": "code",
   "execution_count": 18,
   "outputs": [
    {
     "name": "stdout",
     "output_type": "stream",
     "text": [
      "CPU times: user 44.8 ms, sys: 1.49 ms, total: 46.2 ms\n",
      "Wall time: 45.8 ms\n"
     ]
    }
   ],
   "source": [
    "%%time\n",
    "\n",
    "result['own_purchases'] = result['user_id'].\\\n",
    "    apply(lambda x: [id_to_itemid[rec[0]] for rec in\n",
    "                     model.recommend(userid=userid_to_id[x],\n",
    "                                     user_items=sparse_user_item,   # на вход user-item matrix\n",
    "                                     N=5,\n",
    "                                     filter_already_liked_items=False,\n",
    "                                     filter_items=[itemid_to_id[6666]],\n",
    "                                     recalculate_user=True)])"
   ],
   "metadata": {
    "collapsed": false,
    "pycharm": {
     "name": "#%%\n"
    }
   }
  },
  {
   "cell_type": "code",
   "execution_count": 19,
   "outputs": [
    {
     "data": {
      "text/plain": "   user_id                                             actual  \\\n0        1  [821867, 834484, 856942, 865456, 889248, 90795...   \n1        3  [835476, 851057, 872021, 878302, 879948, 90963...   \n2        6  [920308, 926804, 946489, 1006718, 1017061, 107...   \n3        7  [840386, 889774, 898068, 909714, 929067, 95347...   \n4        8  [835098, 872137, 910439, 924610, 992977, 10412...   \n\n                            random_recommendation  \\\n0  [9838023, 872063, 15926886, 13911483, 1022086]   \n1  [1065331, 15597054, 10312182, 923149, 1007178]   \n2  [1069183, 10203856, 9368046, 9526790, 6552364]   \n3   [15717072, 15716286, 2861517, 998489, 819828]   \n4   [5655290, 1260411, 879986, 13775118, 1032688]   \n\n                   weighted_random_recommendation  \\\n0   [10344585, 1415996, 1087755, 883670, 1033249]   \n1  [8205577, 1115800, 1091090, 1085141, 15596516]   \n2     [7409956, 982785, 1056187, 1110119, 989075]   \n3     [12172002, 878444, 921042, 998567, 9396498]   \n4    [906502, 7167984, 9677102, 9396716, 2483297]   \n\n                     random_recommendation_5000  \\\n0     [891028, 932298, 1054945, 871433, 995916]   \n1  [13007355, 8090532, 961747, 996425, 1127470]   \n2   [1007911, 936355, 1012922, 977798, 1001333]   \n3  [857849, 1106428, 9245108, 1131558, 1093413]   \n4     [1037417, 825249, 999250, 868015, 920978]   \n\n             weighted_random_recommendation_5000  \\\n0    [1081189, 1132280, 1038692, 992529, 835619]   \n1       [959316, 950756, 926763, 910151, 911622]   \n2     [9527455, 896444, 850157, 9527257, 918684]   \n3  [1024051, 7155863, 6533889, 1105917, 5568729]   \n4     [835300, 962615, 8205218, 979566, 1083733]   \n\n                                  own_purchases  \n0    [1082185, 995242, 1029743, 840361, 904360]  \n1  [1082185, 1098066, 6534178, 826249, 1127831]  \n2    [1082185, 981760, 995242, 1029743, 840361]  \n3   [1082185, 995242, 1029743, 826249, 1127831]  \n4    [1082185, 981760, 995242, 1029743, 840361]  ",
      "text/html": "<div>\n<style scoped>\n    .dataframe tbody tr th:only-of-type {\n        vertical-align: middle;\n    }\n\n    .dataframe tbody tr th {\n        vertical-align: top;\n    }\n\n    .dataframe thead th {\n        text-align: right;\n    }\n</style>\n<table border=\"1\" class=\"dataframe\">\n  <thead>\n    <tr style=\"text-align: right;\">\n      <th></th>\n      <th>user_id</th>\n      <th>actual</th>\n      <th>random_recommendation</th>\n      <th>weighted_random_recommendation</th>\n      <th>random_recommendation_5000</th>\n      <th>weighted_random_recommendation_5000</th>\n      <th>own_purchases</th>\n    </tr>\n  </thead>\n  <tbody>\n    <tr>\n      <th>0</th>\n      <td>1</td>\n      <td>[821867, 834484, 856942, 865456, 889248, 90795...</td>\n      <td>[9838023, 872063, 15926886, 13911483, 1022086]</td>\n      <td>[10344585, 1415996, 1087755, 883670, 1033249]</td>\n      <td>[891028, 932298, 1054945, 871433, 995916]</td>\n      <td>[1081189, 1132280, 1038692, 992529, 835619]</td>\n      <td>[1082185, 995242, 1029743, 840361, 904360]</td>\n    </tr>\n    <tr>\n      <th>1</th>\n      <td>3</td>\n      <td>[835476, 851057, 872021, 878302, 879948, 90963...</td>\n      <td>[1065331, 15597054, 10312182, 923149, 1007178]</td>\n      <td>[8205577, 1115800, 1091090, 1085141, 15596516]</td>\n      <td>[13007355, 8090532, 961747, 996425, 1127470]</td>\n      <td>[959316, 950756, 926763, 910151, 911622]</td>\n      <td>[1082185, 1098066, 6534178, 826249, 1127831]</td>\n    </tr>\n    <tr>\n      <th>2</th>\n      <td>6</td>\n      <td>[920308, 926804, 946489, 1006718, 1017061, 107...</td>\n      <td>[1069183, 10203856, 9368046, 9526790, 6552364]</td>\n      <td>[7409956, 982785, 1056187, 1110119, 989075]</td>\n      <td>[1007911, 936355, 1012922, 977798, 1001333]</td>\n      <td>[9527455, 896444, 850157, 9527257, 918684]</td>\n      <td>[1082185, 981760, 995242, 1029743, 840361]</td>\n    </tr>\n    <tr>\n      <th>3</th>\n      <td>7</td>\n      <td>[840386, 889774, 898068, 909714, 929067, 95347...</td>\n      <td>[15717072, 15716286, 2861517, 998489, 819828]</td>\n      <td>[12172002, 878444, 921042, 998567, 9396498]</td>\n      <td>[857849, 1106428, 9245108, 1131558, 1093413]</td>\n      <td>[1024051, 7155863, 6533889, 1105917, 5568729]</td>\n      <td>[1082185, 995242, 1029743, 826249, 1127831]</td>\n    </tr>\n    <tr>\n      <th>4</th>\n      <td>8</td>\n      <td>[835098, 872137, 910439, 924610, 992977, 10412...</td>\n      <td>[5655290, 1260411, 879986, 13775118, 1032688]</td>\n      <td>[906502, 7167984, 9677102, 9396716, 2483297]</td>\n      <td>[1037417, 825249, 999250, 868015, 920978]</td>\n      <td>[835300, 962615, 8205218, 979566, 1083733]</td>\n      <td>[1082185, 981760, 995242, 1029743, 840361]</td>\n    </tr>\n  </tbody>\n</table>\n</div>"
     },
     "execution_count": 19,
     "metadata": {},
     "output_type": "execute_result"
    }
   ],
   "source": [
    "result.head(5)"
   ],
   "metadata": {
    "collapsed": false,
    "pycharm": {
     "name": "#%%\n"
    }
   }
  },
  {
   "cell_type": "code",
   "execution_count": 20,
   "outputs": [
    {
     "name": "stdout",
     "output_type": "stream",
     "text": [
      "1.0:actual\n",
      "0.0003:random_recommendation\n",
      "0.0016:weighted_random_recommendation\n",
      "0.0059:random_recommendation_5000\n",
      "0.0057:weighted_random_recommendation_5000\n",
      "0.2199:own_purchases\n"
     ]
    },
    {
     "name": "stderr",
     "output_type": "stream",
     "text": [
      "/Users/vladimir/DataspellProjects/GB-Recommender-Systems/Lesson_2/metrics.py:20: RuntimeWarning: invalid value encountered in long_scalars\n",
      "  return flags.sum() / len(recommended_list)\n"
     ]
    }
   ],
   "source": [
    "for name_col in result.columns[1:]:\n",
    "    print(f\"{round(result.apply(lambda row: precision_at_k(row[name_col], row['actual']), axis=1).mean(),4)}:{name_col}\")"
   ],
   "metadata": {
    "collapsed": false,
    "pycharm": {
     "name": "#%%\n"
    }
   }
  },
  {
   "cell_type": "markdown",
   "source": [
    "#### Попробуем улучшить результат"
   ],
   "metadata": {
    "collapsed": false
   }
  },
  {
   "cell_type": "code",
   "execution_count": 21,
   "outputs": [
    {
     "name": "stdout",
     "output_type": "stream",
     "text": [
      "Размер матрицы: (2499, 5001)\n",
      "Разреженность матрицы: 18.23156777207984\n"
     ]
    }
   ],
   "source": [
    "# изменим значения в матрице (оставим quantity \"как есть\")\n",
    "\n",
    "user_item_matrix = pd.pivot_table(data_train,\n",
    "                                  index='user_id', columns='item_id',\n",
    "                                  values='quantity',\n",
    "                                  aggfunc='count',\n",
    "                                  fill_value=0\n",
    "                                  )\n",
    "\n",
    "# user_item_matrix[user_item_matrix > 0] = 1 # так как в итоге хотим предсказать\n",
    "\n",
    "user_item_matrix = user_item_matrix.astype(float) # необходимый тип матрицы для implicit\n",
    "\n",
    "# переведем в формат sparse matrix\n",
    "sparse_user_item = csr_matrix(user_item_matrix).tocsr()\n",
    "\n",
    "print(f'Размер матрицы: {user_item_matrix.shape}')\n",
    "print(f'Разреженность матрицы: {user_item_matrix.sum().sum() / (user_item_matrix.shape[0] * user_item_matrix.shape[1]) * 100}')"
   ],
   "metadata": {
    "collapsed": false,
    "pycharm": {
     "name": "#%%\n"
    }
   }
  },
  {
   "cell_type": "code",
   "execution_count": 22,
   "outputs": [
    {
     "data": {
      "text/plain": "  0%|          | 0/5001 [00:00<?, ?it/s]",
      "application/vnd.jupyter.widget-view+json": {
       "version_major": 2,
       "version_minor": 0,
       "model_id": "63d8c060ed194ced9ce2e0c39afd7080"
      }
     },
     "metadata": {},
     "output_type": "display_data"
    },
    {
     "name": "stdout",
     "output_type": "stream",
     "text": [
      "CPU times: user 1.08 s, sys: 13.6 ms, total: 1.09 s\n",
      "Wall time: 1.1 s\n"
     ]
    }
   ],
   "source": [
    "%%time\n",
    "\n",
    "# применим в модели K=3\n",
    "\n",
    "model = ItemItemRecommender(K=3, num_threads=4) # K - кол-во билжайших соседей\n",
    "\n",
    "\n",
    "model.fit(csr_matrix(user_item_matrix).T.tocsr(),  # На вход item-user matrix\n",
    "          show_progress=True)"
   ],
   "metadata": {
    "collapsed": false,
    "pycharm": {
     "name": "#%%\n"
    }
   }
  },
  {
   "cell_type": "code",
   "execution_count": 23,
   "outputs": [
    {
     "name": "stdout",
     "output_type": "stream",
     "text": [
      "CPU times: user 43.7 ms, sys: 1.46 ms, total: 45.2 ms\n",
      "Wall time: 44.6 ms\n"
     ]
    }
   ],
   "source": [
    "%%time\n",
    "\n",
    "result['own_purchases_update'] = result['user_id'].\\\n",
    "    apply(lambda x: [id_to_itemid[rec[0]] for rec in\n",
    "                     model.recommend(userid=userid_to_id[x],\n",
    "                                     user_items=sparse_user_item,   # на вход user-item matrix\n",
    "                                     N=5,\n",
    "                                     filter_already_liked_items=False,\n",
    "                                     filter_items=[itemid_to_id[6666]],\n",
    "                                     recalculate_user=True)])"
   ],
   "metadata": {
    "collapsed": false,
    "pycharm": {
     "name": "#%%\n"
    }
   }
  },
  {
   "cell_type": "code",
   "execution_count": 24,
   "outputs": [
    {
     "data": {
      "text/plain": "   user_id                                             actual  \\\n0        1  [821867, 834484, 856942, 865456, 889248, 90795...   \n1        3  [835476, 851057, 872021, 878302, 879948, 90963...   \n2        6  [920308, 926804, 946489, 1006718, 1017061, 107...   \n3        7  [840386, 889774, 898068, 909714, 929067, 95347...   \n4        8  [835098, 872137, 910439, 924610, 992977, 10412...   \n\n                            random_recommendation  \\\n0  [9838023, 872063, 15926886, 13911483, 1022086]   \n1  [1065331, 15597054, 10312182, 923149, 1007178]   \n2  [1069183, 10203856, 9368046, 9526790, 6552364]   \n3   [15717072, 15716286, 2861517, 998489, 819828]   \n4   [5655290, 1260411, 879986, 13775118, 1032688]   \n\n                   weighted_random_recommendation  \\\n0   [10344585, 1415996, 1087755, 883670, 1033249]   \n1  [8205577, 1115800, 1091090, 1085141, 15596516]   \n2     [7409956, 982785, 1056187, 1110119, 989075]   \n3     [12172002, 878444, 921042, 998567, 9396498]   \n4    [906502, 7167984, 9677102, 9396716, 2483297]   \n\n                     random_recommendation_5000  \\\n0     [891028, 932298, 1054945, 871433, 995916]   \n1  [13007355, 8090532, 961747, 996425, 1127470]   \n2   [1007911, 936355, 1012922, 977798, 1001333]   \n3  [857849, 1106428, 9245108, 1131558, 1093413]   \n4     [1037417, 825249, 999250, 868015, 920978]   \n\n             weighted_random_recommendation_5000  \\\n0    [1081189, 1132280, 1038692, 992529, 835619]   \n1       [959316, 950756, 926763, 910151, 911622]   \n2     [9527455, 896444, 850157, 9527257, 918684]   \n3  [1024051, 7155863, 6533889, 1105917, 5568729]   \n4     [835300, 962615, 8205218, 979566, 1083733]   \n\n                                  own_purchases  \\\n0    [1082185, 995242, 1029743, 840361, 904360]   \n1  [1082185, 1098066, 6534178, 826249, 1127831]   \n2    [1082185, 981760, 995242, 1029743, 840361]   \n3   [1082185, 995242, 1029743, 826249, 1127831]   \n4    [1082185, 981760, 995242, 1029743, 840361]   \n\n                            own_purchases_update  \n0   [1082185, 6534178, 995242, 1029743, 1005186]  \n1   [1082185, 6534178, 1106523, 951590, 1133018]  \n2   [1082185, 6534178, 1029743, 995242, 5569230]  \n3  [1082185, 6534178, 1106523, 1029743, 1133018]  \n4  [1082185, 6534178, 1029743, 1106523, 1133018]  ",
      "text/html": "<div>\n<style scoped>\n    .dataframe tbody tr th:only-of-type {\n        vertical-align: middle;\n    }\n\n    .dataframe tbody tr th {\n        vertical-align: top;\n    }\n\n    .dataframe thead th {\n        text-align: right;\n    }\n</style>\n<table border=\"1\" class=\"dataframe\">\n  <thead>\n    <tr style=\"text-align: right;\">\n      <th></th>\n      <th>user_id</th>\n      <th>actual</th>\n      <th>random_recommendation</th>\n      <th>weighted_random_recommendation</th>\n      <th>random_recommendation_5000</th>\n      <th>weighted_random_recommendation_5000</th>\n      <th>own_purchases</th>\n      <th>own_purchases_update</th>\n    </tr>\n  </thead>\n  <tbody>\n    <tr>\n      <th>0</th>\n      <td>1</td>\n      <td>[821867, 834484, 856942, 865456, 889248, 90795...</td>\n      <td>[9838023, 872063, 15926886, 13911483, 1022086]</td>\n      <td>[10344585, 1415996, 1087755, 883670, 1033249]</td>\n      <td>[891028, 932298, 1054945, 871433, 995916]</td>\n      <td>[1081189, 1132280, 1038692, 992529, 835619]</td>\n      <td>[1082185, 995242, 1029743, 840361, 904360]</td>\n      <td>[1082185, 6534178, 995242, 1029743, 1005186]</td>\n    </tr>\n    <tr>\n      <th>1</th>\n      <td>3</td>\n      <td>[835476, 851057, 872021, 878302, 879948, 90963...</td>\n      <td>[1065331, 15597054, 10312182, 923149, 1007178]</td>\n      <td>[8205577, 1115800, 1091090, 1085141, 15596516]</td>\n      <td>[13007355, 8090532, 961747, 996425, 1127470]</td>\n      <td>[959316, 950756, 926763, 910151, 911622]</td>\n      <td>[1082185, 1098066, 6534178, 826249, 1127831]</td>\n      <td>[1082185, 6534178, 1106523, 951590, 1133018]</td>\n    </tr>\n    <tr>\n      <th>2</th>\n      <td>6</td>\n      <td>[920308, 926804, 946489, 1006718, 1017061, 107...</td>\n      <td>[1069183, 10203856, 9368046, 9526790, 6552364]</td>\n      <td>[7409956, 982785, 1056187, 1110119, 989075]</td>\n      <td>[1007911, 936355, 1012922, 977798, 1001333]</td>\n      <td>[9527455, 896444, 850157, 9527257, 918684]</td>\n      <td>[1082185, 981760, 995242, 1029743, 840361]</td>\n      <td>[1082185, 6534178, 1029743, 995242, 5569230]</td>\n    </tr>\n    <tr>\n      <th>3</th>\n      <td>7</td>\n      <td>[840386, 889774, 898068, 909714, 929067, 95347...</td>\n      <td>[15717072, 15716286, 2861517, 998489, 819828]</td>\n      <td>[12172002, 878444, 921042, 998567, 9396498]</td>\n      <td>[857849, 1106428, 9245108, 1131558, 1093413]</td>\n      <td>[1024051, 7155863, 6533889, 1105917, 5568729]</td>\n      <td>[1082185, 995242, 1029743, 826249, 1127831]</td>\n      <td>[1082185, 6534178, 1106523, 1029743, 1133018]</td>\n    </tr>\n    <tr>\n      <th>4</th>\n      <td>8</td>\n      <td>[835098, 872137, 910439, 924610, 992977, 10412...</td>\n      <td>[5655290, 1260411, 879986, 13775118, 1032688]</td>\n      <td>[906502, 7167984, 9677102, 9396716, 2483297]</td>\n      <td>[1037417, 825249, 999250, 868015, 920978]</td>\n      <td>[835300, 962615, 8205218, 979566, 1083733]</td>\n      <td>[1082185, 981760, 995242, 1029743, 840361]</td>\n      <td>[1082185, 6534178, 1029743, 1106523, 1133018]</td>\n    </tr>\n  </tbody>\n</table>\n</div>"
     },
     "execution_count": 24,
     "metadata": {},
     "output_type": "execute_result"
    }
   ],
   "source": [
    "result.head(5)"
   ],
   "metadata": {
    "collapsed": false,
    "pycharm": {
     "name": "#%%\n"
    }
   }
  },
  {
   "cell_type": "code",
   "execution_count": 25,
   "outputs": [
    {
     "name": "stdout",
     "output_type": "stream",
     "text": [
      "1.0:actual\n",
      "0.0003:random_recommendation\n",
      "0.0016:weighted_random_recommendation\n",
      "0.0059:random_recommendation_5000\n",
      "0.0057:weighted_random_recommendation_5000\n",
      "0.2199:own_purchases\n",
      "0.3055:own_purchases_update\n"
     ]
    },
    {
     "name": "stderr",
     "output_type": "stream",
     "text": [
      "/Users/vladimir/DataspellProjects/GB-Recommender-Systems/Lesson_2/metrics.py:20: RuntimeWarning: invalid value encountered in long_scalars\n",
      "  return flags.sum() / len(recommended_list)\n"
     ]
    }
   ],
   "source": [
    "for name_col in result.columns[1:]:\n",
    "    print(f\"{round(result.apply(lambda row: precision_at_k(row[name_col], row['actual']), axis=1).mean(),4)}:{name_col}\")"
   ],
   "metadata": {
    "collapsed": false,
    "pycharm": {
     "name": "#%%\n"
    }
   }
  },
  {
   "cell_type": "markdown",
   "source": [
    "#### Итого\n",
    "\n",
    "После серии экспериментов лучший результат 0.3055. В матрице используем количество совершенных покупок (не 0/1), K=3."
   ],
   "metadata": {
    "collapsed": false,
    "pycharm": {
     "name": "#%% md\n"
    }
   }
  }
 ],
 "metadata": {
  "colab": {
   "name": "hw_webinar_2.ipynb",
   "provenance": []
  },
  "kernelspec": {
   "display_name": "Python 3",
   "language": "python",
   "name": "python3"
  },
  "language_info": {
   "codemirror_mode": {
    "name": "ipython",
    "version": 3
   },
   "file_extension": ".py",
   "mimetype": "text/x-python",
   "name": "python",
   "nbconvert_exporter": "python",
   "pygments_lexer": "ipython3",
   "version": "3.7.4"
  }
 },
 "nbformat": 4,
 "nbformat_minor": 1
}